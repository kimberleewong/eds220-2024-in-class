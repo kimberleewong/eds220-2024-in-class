{
 "cells": [
  {
   "cell_type": "markdown",
   "id": "cffa8331-3420-4900-a69c-b8c77d105d7d",
   "metadata": {},
   "source": [
    "# Python review\n",
    "\n",
    "Shrt review about some core concepts in Python exemplified by objects in the Numpy library.\n",
    "Goals: \n",
    "\n",
    "- recall basic Python vocab\n",
    "- practice markdown syntax\n",
    "\n",
    "## Libraries and packages\n",
    "\n",
    "**library:** is a collection of code that we can use to perform specific tasks in our programs. It can be a single file or multiple files\n",
    "\n",
    "**NumPy:** \n",
    "\n",
    "- core library for numberical computing in Python\n",
    "- many of libraries use NumPy arrays as their building blocks\n",
    "- computations on NumPy objects are optimized for speed and memory usage\n",
    "\n",
    "Let's import NumPy with its **standard abbreviation** np:"
   ]
  },
  {
   "cell_type": "code",
   "execution_count": 1,
   "id": "515743bd-c8e8-439d-8781-c907ffaaa729",
   "metadata": {
    "tags": []
   },
   "outputs": [],
   "source": [
    "import numpy as np"
   ]
  },
  {
   "cell_type": "markdown",
   "id": "aa4095a5-2930-4463-992c-85e486a454b1",
   "metadata": {},
   "source": [
    "## Variables\n",
    "\n",
    "**variables:** a name we assign to a particular object in Python\n",
    "\n",
    "Example:"
   ]
  },
  {
   "cell_type": "code",
   "execution_count": 2,
   "id": "5bc61950-2cab-4966-935f-80b123321eb8",
   "metadata": {
    "tags": []
   },
   "outputs": [],
   "source": [
    "# Assign a small array to variable a\n",
    "a = np.array([[1, 1, 2], [3, 5, 8]])"
   ]
  },
  {
   "cell_type": "markdown",
   "id": "321e8942-1102-4aa3-aa77-36bae51bb9c0",
   "metadata": {},
   "source": [
    "To view a variables value from our Jupyter notebook:"
   ]
  },
  {
   "cell_type": "code",
   "execution_count": 3,
   "id": "fd4091d6-6f51-40ec-a209-2f895c4d52fb",
   "metadata": {
    "tags": []
   },
   "outputs": [
    {
     "data": {
      "text/plain": [
       "array([[1, 1, 2],\n",
       "       [3, 5, 8]])"
      ]
     },
     "execution_count": 3,
     "metadata": {},
     "output_type": "execute_result"
    }
   ],
   "source": [
    "# Run a cell with variable name to show value\n",
    "a"
   ]
  },
  {
   "cell_type": "code",
   "execution_count": 4,
   "id": "328d1f75-e2d8-4b84-aca9-b18aa06c929d",
   "metadata": {
    "tags": []
   },
   "outputs": [
    {
     "name": "stdout",
     "output_type": "stream",
     "text": [
      "[[1 1 2]\n",
      " [3 5 8]]\n"
     ]
    }
   ],
   "source": [
    "# Use `print` function to print the value\n",
    "print(a)"
   ]
  },
  {
   "cell_type": "markdown",
   "id": "7e33b887-723f-498b-a0da-fc4a8d36b975",
   "metadata": {},
   "source": [
    "## Convention: use `snake_case` for naming variables.\n",
    "\n",
    "This is teh convention we will use in the course. why?\n",
    "`my_variable` or `MyVariable` or `myVariable`, PEP 8 - style guide for python code recommends snake_case\n",
    "\n",
    "** Remeber that variable names should be both descriptive and concise**\n",
    "\n",
    "## Objects\n",
    "\n",
    "**object:** (informally speaking) is a bundle of *properties* and *actions* about something specific. \n",
    "\n",
    "Example:\n",
    "\n",
    "Object: data frame\n",
    "Properties: number of rows, number of columns, and date created\n",
    "Actions: selecting a specific row or adding a new column\n",
    "\n",
    "A variable is the name we give a specific object, and the same object can be referenced by different variables.\n",
    "\n",
    "In practice, we can often use the word variable and object interchangeably.\n",
    "\n",
    "## Types\n",
    "\n",
    "Every object in Python has a **type**, the type tells us what kind of object we have. \n",
    "We can also call type of an object the class. "
   ]
  },
  {
   "cell_type": "code",
   "execution_count": 5,
   "id": "e7792dc1-b410-4dd7-a289-f8dfcb051a39",
   "metadata": {
    "tags": []
   },
   "outputs": [
    {
     "name": "stdout",
     "output_type": "stream",
     "text": [
      "[[1 1 2]\n",
      " [3 5 8]]\n"
     ]
    }
   ],
   "source": [
    "print(a)"
   ]
  },
  {
   "cell_type": "code",
   "execution_count": 6,
   "id": "1ff6d49e-c8e4-421e-9644-5057ed653a58",
   "metadata": {
    "tags": []
   },
   "outputs": [
    {
     "data": {
      "text/plain": [
       "numpy.ndarray"
      ]
     },
     "execution_count": 6,
     "metadata": {},
     "output_type": "execute_result"
    }
   ],
   "source": [
    "# See the type/class of a variable/object by using `type` function\n",
    "type(a)"
   ]
  },
  {
   "cell_type": "markdown",
   "id": "8a159d83-2dab-471f-be16-3495eb52514e",
   "metadata": {
    "tags": []
   },
   "source": [
    "The numpy.ndarray is the core object/data type of the NumPy package."
   ]
  },
  {
   "cell_type": "code",
   "execution_count": 9,
   "id": "a2a0ff9c-fa60-4c95-a687-0b372964931c",
   "metadata": {
    "tags": []
   },
   "outputs": [
    {
     "name": "stdout",
     "output_type": "stream",
     "text": [
      "1\n"
     ]
    },
    {
     "data": {
      "text/plain": [
       "numpy.int64"
      ]
     },
     "execution_count": 9,
     "metadata": {},
     "output_type": "execute_result"
    }
   ],
   "source": [
    "print(a[0,0])\n",
    "type(a[0,0])"
   ]
  },
  {
   "cell_type": "markdown",
   "id": "7a98274e-cf83-419b-a6ff-bed878522501",
   "metadata": {},
   "source": [
    "`numpy.int64` is not the standard Python integer type `int`\n",
    "\n",
    "`numpy.int64` is a special date type in Numpy telling us that 1 is an integer stored as a 64-bit number.\n",
    "\n",
    "Check in: access the value 5 in array `a`:"
   ]
  },
  {
   "cell_type": "code",
   "execution_count": 13,
   "id": "90f4d8a9-2a2f-4241-9f47-6dc589150dbe",
   "metadata": {
    "tags": []
   },
   "outputs": [
    {
     "data": {
      "text/plain": [
       "5"
      ]
     },
     "execution_count": 13,
     "metadata": {},
     "output_type": "execute_result"
    }
   ],
   "source": [
    "a[1,1]"
   ]
  },
  {
   "cell_type": "markdown",
   "id": "cac266f5-24b2-42c3-b694-fa7fde4d7d2d",
   "metadata": {},
   "source": [
    "## Functions\n",
    "\n",
    "`print` was our first example of a Python **function**\n",
    "\n",
    "Functions take in a set of **arguments**, separated by commas, and use those arguments to create an **output**.\n",
    "\n",
    "In the course, we'll be using argument and parameter interchangeably. But they do have slightly different meanings.\n",
    "\n",
    "We can ask for info about what a function does by executing ? followed by the function name:"
   ]
  },
  {
   "cell_type": "code",
   "execution_count": 14,
   "id": "400ea17a-1060-45de-8e92-79e05f558ece",
   "metadata": {
    "tags": []
   },
   "outputs": [
    {
     "data": {
      "text/plain": [
       "\u001b[0;31mDocstring:\u001b[0m\n",
       "print(value, ..., sep=' ', end='\\n', file=sys.stdout, flush=False)\n",
       "\n",
       "Prints the values to a stream, or to sys.stdout by default.\n",
       "Optional keyword arguments:\n",
       "file:  a file-like object (stream); defaults to the current sys.stdout.\n",
       "sep:   string inserted between values, default a space.\n",
       "end:   string appended after the last value, default a newline.\n",
       "flush: whether to forcibly flush the stream.\n",
       "\u001b[0;31mType:\u001b[0m      builtin_function_or_method\n"
      ]
     },
     "metadata": {},
     "output_type": "display_data"
    }
   ],
   "source": [
    "?print"
   ]
  },
  {
   "cell_type": "markdown",
   "id": "b97a84a9-2ccb-45c2-a685-05e37412c80b",
   "metadata": {},
   "source": [
    "What we obtain is a **docstring**, a special type of comment that is used to document how a function (or a class, or module) works.\n",
    "\n",
    "Notice is that there are different types of arguments inside the function's parenthesis.\n",
    "\n",
    "Roughly speaking, a function has two types of arguments:\n",
    "\n",
    "- **non-optional arguments:** arguements *you* have to specify for the function to work.\n",
    "- **optional arguments:** arguments that are pre-fulled with a default value by the function, but you can override them. Optional arguments appear inside the parenthesis () in the form `optional_argument = default_value`\n",
    "\n",
    "Example\n",
    "\n",
    "`end` is a parameter in `print` with default value a new line\n",
    "We can pass the value `:-)` to this parameter so that it finished the line with `:-)` instead:"
   ]
  },
  {
   "cell_type": "code",
   "execution_count": 15,
   "id": "77548a5f-841a-4198-9bed-2eef69ff35f8",
   "metadata": {
    "tags": []
   },
   "outputs": [
    {
     "name": "stdout",
     "output_type": "stream",
     "text": [
      "Change the end parameter:-)"
     ]
    }
   ],
   "source": [
    "print('Change the end parameter', end = ':-)')"
   ]
  },
  {
   "cell_type": "markdown",
   "id": "44e0868a-ec67-4409-932b-2620eee8d4b7",
   "metadata": {},
   "source": [
    "## Attributes and methods\n",
    "\n",
    "An object in Python has attributes and methods. \n",
    "\n",
    "- **attribute**: a property of the object, some piece of information about it.\n",
    "- **method**: a procedure associated with an object, so it is an action where the main ingredient is the object itself.\n",
    "\n",
    "## Check-in\n",
    "\n",
    "Make a diagram like the cat one, for a class `fish`. What are its attributes and methods?\n",
    "- attribute: cartilaginous, color, size\n",
    "- method: swim, splash, eat\n",
    "\n",
    "Example:\n",
    "\n",
    "NumPy arrays have many methds and attributes. For example:"
   ]
  },
  {
   "cell_type": "code",
   "execution_count": 16,
   "id": "566321a9-bb90-482d-b3f2-f0e95b4ddb58",
   "metadata": {
    "tags": []
   },
   "outputs": [
    {
     "data": {
      "text/plain": [
       "array([[1, 1, 2],\n",
       "       [3, 5, 8]])"
      ]
     },
     "execution_count": 16,
     "metadata": {},
     "output_type": "execute_result"
    }
   ],
   "source": [
    "a"
   ]
  },
  {
   "cell_type": "code",
   "execution_count": 17,
   "id": "6dc0fb66-6fc5-450a-b00d-f6263191c41d",
   "metadata": {
    "tags": []
   },
   "outputs": [
    {
     "name": "stdout",
     "output_type": "stream",
     "text": [
      "[[1 3]\n",
      " [1 5]\n",
      " [2 8]]\n"
     ]
    }
   ],
   "source": [
    "# T is an example of an attribute, it returns the transpose of array\n",
    "print(a.T)"
   ]
  },
  {
   "cell_type": "code",
   "execution_count": 18,
   "id": "a6d4f500-0cc0-4163-a33e-168cd4537b6b",
   "metadata": {
    "tags": []
   },
   "outputs": [
    {
     "data": {
      "text/plain": [
       "numpy.ndarray"
      ]
     },
     "execution_count": 18,
     "metadata": {},
     "output_type": "execute_result"
    }
   ],
   "source": [
    "type(a.T)"
   ]
  },
  {
   "cell_type": "code",
   "execution_count": 20,
   "id": "6df72f01-1a8c-4222-be22-5c197f9c01ba",
   "metadata": {
    "tags": []
   },
   "outputs": [
    {
     "name": "stdout",
     "output_type": "stream",
     "text": [
      "(2, 3)\n",
      "<class 'tuple'>\n"
     ]
    }
   ],
   "source": [
    "# shape another attribute tells us the shape of the array\n",
    "print(a.shape)\n",
    "print(type(a.shape))"
   ]
  },
  {
   "cell_type": "code",
   "execution_count": 22,
   "id": "2610e13d-12d0-4b4f-895d-1067c61f2a8d",
   "metadata": {
    "tags": []
   },
   "outputs": [
    {
     "name": "stdout",
     "output_type": "stream",
     "text": [
      "dim: 2 | type <class 'int'>\n"
     ]
    }
   ],
   "source": [
    "# ndim is an attrivute hold the number of array dimensions\n",
    "print('dim:', a.ndim, '| type', type(a.ndim))"
   ]
  },
  {
   "cell_type": "markdown",
   "id": "69f08cdf-c057-41c5-9d1b-72a78cc8432e",
   "metadata": {},
   "source": [
    "Attributes can have many different data types. \n",
    "\n",
    "Some examples of methods:"
   ]
  },
  {
   "cell_type": "code",
   "execution_count": 23,
   "id": "a6993f2a-e1c5-4926-a312-5be831c2e617",
   "metadata": {
    "tags": []
   },
   "outputs": [
    {
     "name": "stdout",
     "output_type": "stream",
     "text": [
      "[[1 1 2]\n",
      " [3 5 8]]\n"
     ]
    },
    {
     "data": {
      "text/plain": [
       "array([1, 1, 2])"
      ]
     },
     "execution_count": 23,
     "metadata": {},
     "output_type": "execute_result"
    }
   ],
   "source": [
    "# The min method returns the minimum value in the array along a specified axis.\n",
    "print(a)\n",
    "a.min(axis=0)"
   ]
  },
  {
   "cell_type": "code",
   "execution_count": 24,
   "id": "bc16ed1c-6bb7-4834-a2ad-2598c1162175",
   "metadata": {
    "tags": []
   },
   "outputs": [
    {
     "data": {
      "text/plain": [
       "1"
      ]
     },
     "execution_count": 24,
     "metadata": {},
     "output_type": "execute_result"
    }
   ],
   "source": [
    "# Run min method without axis\n",
    "a.min()"
   ]
  },
  {
   "cell_type": "code",
   "execution_count": 25,
   "id": "37c85cd6-aaf7-46c7-b414-a8c552f43e0f",
   "metadata": {
    "tags": []
   },
   "outputs": [
    {
     "data": {
      "text/plain": [
       "[[1, 1, 2], [3, 5, 8]]"
      ]
     },
     "execution_count": 25,
     "metadata": {},
     "output_type": "execute_result"
    }
   ],
   "source": [
    "# method tolist() transform array into a list\n",
    "a.tolist()"
   ]
  },
  {
   "cell_type": "code",
   "execution_count": 27,
   "id": "ee8af2db-b870-43f4-8eb8-9062766e1c62",
   "metadata": {
    "tags": []
   },
   "outputs": [
    {
     "data": {
      "text/plain": [
       "builtin_function_or_method"
      ]
     },
     "execution_count": 27,
     "metadata": {},
     "output_type": "execute_result"
    }
   ],
   "source": [
    "type(a.tolist)"
   ]
  },
  {
   "cell_type": "markdown",
   "id": "7b080bac-fdd8-4055-b5c1-2e12bd794b49",
   "metadata": {},
   "source": [
    "## Exercise\n",
    "\n",
    "1. Read the print function `help`. What is the type of the argument `sep`? Is this a default or non-default argument? why?\n",
    "2. Create two new variables, one with the integer value 77 and another with the strong 99.\n",
    "3. Use your variables to print 77%99%77 by change the value of one of the default arguments in `print`."
   ]
  },
  {
   "cell_type": "code",
   "execution_count": 33,
   "id": "22409bce-b2e1-4258-8344-1d9e8396cdf0",
   "metadata": {
    "tags": []
   },
   "outputs": [
    {
     "data": {
      "text/plain": [
       "\u001b[0;31mDocstring:\u001b[0m\n",
       "print(value, ..., sep=' ', end='\\n', file=sys.stdout, flush=False)\n",
       "\n",
       "Prints the values to a stream, or to sys.stdout by default.\n",
       "Optional keyword arguments:\n",
       "file:  a file-like object (stream); defaults to the current sys.stdout.\n",
       "sep:   string inserted between values, default a space.\n",
       "end:   string appended after the last value, default a newline.\n",
       "flush: whether to forcibly flush the stream.\n",
       "\u001b[0;31mType:\u001b[0m      builtin_function_or_method\n"
      ]
     },
     "metadata": {},
     "output_type": "display_data"
    }
   ],
   "source": [
    "# 1. is optional bc it fills in with a blank\n",
    "?print"
   ]
  },
  {
   "cell_type": "code",
   "execution_count": 34,
   "id": "ba0c4ea2-998e-4300-9573-e270709be08e",
   "metadata": {
    "tags": []
   },
   "outputs": [],
   "source": [
    "#2. \n",
    "a = 77\n",
    "b = \"99\""
   ]
  },
  {
   "cell_type": "code",
   "execution_count": 37,
   "id": "61289323-eeb0-4dd8-afad-bb24276cc9c2",
   "metadata": {
    "tags": []
   },
   "outputs": [
    {
     "name": "stdout",
     "output_type": "stream",
     "text": [
      "77%99%77\n"
     ]
    }
   ],
   "source": [
    "#3. \n",
    "print(a, b, a, sep = '%')"
   ]
  },
  {
   "cell_type": "code",
   "execution_count": null,
   "id": "875fa69b-c7b2-40bf-9457-4b4b31b2b8bc",
   "metadata": {},
   "outputs": [],
   "source": []
  }
 ],
 "metadata": {
  "kernelspec": {
   "display_name": "Anaconda 3 (Base)",
   "language": "python",
   "name": "base"
  },
  "language_info": {
   "codemirror_mode": {
    "name": "ipython",
    "version": 3
   },
   "file_extension": ".py",
   "mimetype": "text/x-python",
   "name": "python",
   "nbconvert_exporter": "python",
   "pygments_lexer": "ipython3",
   "version": "3.9.13"
  }
 },
 "nbformat": 4,
 "nbformat_minor": 5
}
