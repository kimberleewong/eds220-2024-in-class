{
 "cells": [
  {
   "cell_type": "markdown",
   "id": "cffa8331-3420-4900-a69c-b8c77d105d7d",
   "metadata": {},
   "source": [
    "# Python review\n",
    "\n",
    "Shrt review about some core concepts in Python exemplified by objects in the Numpy library.\n",
    "Goals: \n",
    "\n",
    "- recall basic Python vocab\n",
    "- practice markdown syntax\n",
    "\n",
    "## Libraries and packages\n",
    "\n",
    "**library:** is a collection of code that we can use to perform specific tasks in our programs. It can be a single file or multiple files\n",
    "\n",
    "**NumPy:** \n",
    "\n",
    "- core library for numberical computing in Python\n",
    "- many of libraries use NumPy arrays as their building blocks\n",
    "- computations on NumPy objects are optimized for speed and memory usage\n",
    "\n",
    "Let's import NumPy with its **standard abbreviation** np:"
   ]
  },
  {
   "cell_type": "code",
   "execution_count": 1,
   "id": "515743bd-c8e8-439d-8781-c907ffaaa729",
   "metadata": {
    "tags": []
   },
   "outputs": [],
   "source": [
    "import numpy as np"
   ]
  },
  {
   "cell_type": "markdown",
   "id": "aa4095a5-2930-4463-992c-85e486a454b1",
   "metadata": {},
   "source": [
    "## Variables\n",
    "\n",
    "**variables:** a name we assign to a particular object in Python\n",
    "\n",
    "Example:"
   ]
  },
  {
   "cell_type": "code",
   "execution_count": 4,
   "id": "5bc61950-2cab-4966-935f-80b123321eb8",
   "metadata": {
    "tags": []
   },
   "outputs": [],
   "source": [
    "# Assign a small array to variable a\n",
    "a = np.array([[1, 1, 2], [3, 5, 8]])"
   ]
  },
  {
   "cell_type": "markdown",
   "id": "321e8942-1102-4aa3-aa77-36bae51bb9c0",
   "metadata": {},
   "source": [
    "To view a variables value from our Jupyter notebook:"
   ]
  },
  {
   "cell_type": "code",
   "execution_count": 5,
   "id": "fd4091d6-6f51-40ec-a209-2f895c4d52fb",
   "metadata": {
    "tags": []
   },
   "outputs": [
    {
     "data": {
      "text/plain": [
       "array([[1, 1, 2],\n",
       "       [3, 5, 8]])"
      ]
     },
     "execution_count": 5,
     "metadata": {},
     "output_type": "execute_result"
    }
   ],
   "source": [
    "# Run a cell with variable name to show value\n",
    "a"
   ]
  },
  {
   "cell_type": "code",
   "execution_count": 6,
   "id": "328d1f75-e2d8-4b84-aca9-b18aa06c929d",
   "metadata": {
    "tags": []
   },
   "outputs": [
    {
     "name": "stdout",
     "output_type": "stream",
     "text": [
      "[[1 1 2]\n",
      " [3 5 8]]\n"
     ]
    }
   ],
   "source": [
    "# Use `print` function to print the value\n",
    "print(a)"
   ]
  },
  {
   "cell_type": "code",
   "execution_count": null,
   "id": "2b0af2bd-bf01-45e8-a720-e8c7a8ac3877",
   "metadata": {},
   "outputs": [],
   "source": []
  }
 ],
 "metadata": {
  "kernelspec": {
   "display_name": "Anaconda 3 (Base)",
   "language": "python",
   "name": "base"
  },
  "language_info": {
   "codemirror_mode": {
    "name": "ipython",
    "version": 3
   },
   "file_extension": ".py",
   "mimetype": "text/x-python",
   "name": "python",
   "nbconvert_exporter": "python",
   "pygments_lexer": "ipython3",
   "version": "3.9.13"
  }
 },
 "nbformat": 4,
 "nbformat_minor": 5
}
