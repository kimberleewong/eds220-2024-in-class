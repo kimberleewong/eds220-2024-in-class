{
 "cells": [
  {
   "cell_type": "markdown",
   "id": "d6a54c5a-cf09-4aca-9b8a-463acc7e56f5",
   "metadata": {},
   "source": [
    "## CSV to `GeoDataFrame`\n",
    "\n",
    "Let's start importing packages and updating viewing options:"
   ]
  },
  {
   "cell_type": "code",
   "execution_count": null,
   "id": "bf2c3969-27dd-4028-aa03-a808faeae44b",
   "metadata": {},
   "outputs": [],
   "source": [
    "import os\n",
    "\n",
    "import pandas as pd\n",
    "from"
   ]
  }
 ],
 "metadata": {
  "kernelspec": {
   "display_name": "Anaconda 3 (Base)",
   "language": "python",
   "name": "base"
  },
  "language_info": {
   "codemirror_mode": {
    "name": "ipython",
    "version": 3
   },
   "file_extension": ".py",
   "mimetype": "text/x-python",
   "name": "python",
   "nbconvert_exporter": "python",
   "pygments_lexer": "ipython3",
   "version": "3.9.13"
  }
 },
 "nbformat": 4,
 "nbformat_minor": 5
}
