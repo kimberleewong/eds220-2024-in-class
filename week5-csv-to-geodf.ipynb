{
 "cells": [
  {
   "cell_type": "markdown",
   "id": "d6a54c5a-cf09-4aca-9b8a-463acc7e56f5",
   "metadata": {},
   "source": [
    "## CSV to `GeoDataFrame`\n",
    "\n",
    "Let's start importing packages and updating viewing options:"
   ]
  },
  {
   "cell_type": "code",
   "execution_count": 2,
   "id": "bf2c3969-27dd-4028-aa03-a808faeae44b",
   "metadata": {},
   "outputs": [],
   "source": [
    "import os\n",
    "\n",
    "import pandas as pd\n",
    "from pandas.api.types import is_string_dtype, is_numeric_dtype\n",
    "import geopandas as gpd\n",
    "import matplotlib.pyplot as plt\n",
    "\n",
    "\n",
    "# Display all columns when looking at dataframes\n",
    "pd.set_option(\"display.max.columns\", None)"
   ]
  },
  {
   "cell_type": "code",
   "execution_count": 3,
   "id": "a3a2910f-e557-458c-be5b-0077156f4d3f",
   "metadata": {
    "tags": []
   },
   "outputs": [
    {
     "data": {
      "text/html": [
       "<div>\n",
       "<style scoped>\n",
       "    .dataframe tbody tr th:only-of-type {\n",
       "        vertical-align: middle;\n",
       "    }\n",
       "\n",
       "    .dataframe tbody tr th {\n",
       "        vertical-align: top;\n",
       "    }\n",
       "\n",
       "    .dataframe thead th {\n",
       "        text-align: right;\n",
       "    }\n",
       "</style>\n",
       "<table border=\"1\" class=\"dataframe\">\n",
       "  <thead>\n",
       "    <tr style=\"text-align: right;\">\n",
       "      <th></th>\n",
       "      <th>objectid</th>\n",
       "      <th>plant_code</th>\n",
       "      <th>plant_name</th>\n",
       "      <th>utility_id</th>\n",
       "      <th>utility_name</th>\n",
       "      <th>sector_name</th>\n",
       "      <th>street_address</th>\n",
       "      <th>city</th>\n",
       "      <th>county</th>\n",
       "      <th>state</th>\n",
       "      <th>zip</th>\n",
       "      <th>primsource</th>\n",
       "      <th>source_desc</th>\n",
       "      <th>tech_desc</th>\n",
       "      <th>install_mw</th>\n",
       "      <th>total_mw</th>\n",
       "      <th>bat_mw</th>\n",
       "      <th>bio_mw</th>\n",
       "      <th>coal_mw</th>\n",
       "      <th>geo_mw</th>\n",
       "      <th>hydro_mw</th>\n",
       "      <th>hydrops_mw</th>\n",
       "      <th>ng_mw</th>\n",
       "      <th>nuclear_mw</th>\n",
       "      <th>crude_mw</th>\n",
       "      <th>solar_mw</th>\n",
       "      <th>wind_mw</th>\n",
       "      <th>other_mw</th>\n",
       "      <th>source</th>\n",
       "      <th>period</th>\n",
       "      <th>longitude</th>\n",
       "      <th>latitude</th>\n",
       "    </tr>\n",
       "  </thead>\n",
       "  <tbody>\n",
       "    <tr>\n",
       "      <th>0</th>\n",
       "      <td>11570</td>\n",
       "      <td>1</td>\n",
       "      <td>Sand Point</td>\n",
       "      <td>63560</td>\n",
       "      <td>TDX Sand Point Generating, LLC</td>\n",
       "      <td>Electric Utility</td>\n",
       "      <td>100 Power Plant Way</td>\n",
       "      <td>Sand Point</td>\n",
       "      <td>Aleutians East</td>\n",
       "      <td>Alaska</td>\n",
       "      <td>99661.0</td>\n",
       "      <td>petroleum</td>\n",
       "      <td>Petroleum = 1.3 MW, Wind = 0.4 MW</td>\n",
       "      <td>Petroleum Liquids; Onshore Wind Turbine;</td>\n",
       "      <td>3.7</td>\n",
       "      <td>1.7</td>\n",
       "      <td>NaN</td>\n",
       "      <td>NaN</td>\n",
       "      <td>NaN</td>\n",
       "      <td>NaN</td>\n",
       "      <td>NaN</td>\n",
       "      <td>NaN</td>\n",
       "      <td>NaN</td>\n",
       "      <td>NaN</td>\n",
       "      <td>1.3</td>\n",
       "      <td>NaN</td>\n",
       "      <td>0.4</td>\n",
       "      <td>NaN</td>\n",
       "      <td>EIA-860, EIA-860M and EIA-923</td>\n",
       "      <td>202305.0</td>\n",
       "      <td>-160.497222</td>\n",
       "      <td>55.339722</td>\n",
       "    </tr>\n",
       "    <tr>\n",
       "      <th>1</th>\n",
       "      <td>11571</td>\n",
       "      <td>2</td>\n",
       "      <td>Bankhead Dam</td>\n",
       "      <td>195</td>\n",
       "      <td>Alabama Power Co</td>\n",
       "      <td>Electric Utility</td>\n",
       "      <td>19001 Lock 17 Road</td>\n",
       "      <td>Northport</td>\n",
       "      <td>Tuscaloosa</td>\n",
       "      <td>Alabama</td>\n",
       "      <td>35476.0</td>\n",
       "      <td>hydroelectric</td>\n",
       "      <td>Hydroelectric = 53 MW</td>\n",
       "      <td>Conventional Hydroelectric</td>\n",
       "      <td>53.9</td>\n",
       "      <td>53.0</td>\n",
       "      <td>NaN</td>\n",
       "      <td>NaN</td>\n",
       "      <td>NaN</td>\n",
       "      <td>NaN</td>\n",
       "      <td>53.0</td>\n",
       "      <td>NaN</td>\n",
       "      <td>NaN</td>\n",
       "      <td>NaN</td>\n",
       "      <td>NaN</td>\n",
       "      <td>NaN</td>\n",
       "      <td>NaN</td>\n",
       "      <td>NaN</td>\n",
       "      <td>EIA-860, EIA-860M and EIA-923</td>\n",
       "      <td>202305.0</td>\n",
       "      <td>-87.356823</td>\n",
       "      <td>33.458665</td>\n",
       "    </tr>\n",
       "    <tr>\n",
       "      <th>2</th>\n",
       "      <td>11572</td>\n",
       "      <td>3</td>\n",
       "      <td>Barry</td>\n",
       "      <td>195</td>\n",
       "      <td>Alabama Power Co</td>\n",
       "      <td>Electric Utility</td>\n",
       "      <td>North Highway 43</td>\n",
       "      <td>Bucks</td>\n",
       "      <td>Mobile</td>\n",
       "      <td>Alabama</td>\n",
       "      <td>36512.0</td>\n",
       "      <td>natural gas</td>\n",
       "      <td>Coal = 1118.5 MW, Natural Gas = 1296.2 MW</td>\n",
       "      <td>Conventional Steam Coal; Natural Gas Fired Com...</td>\n",
       "      <td>2569.5</td>\n",
       "      <td>2414.7</td>\n",
       "      <td>NaN</td>\n",
       "      <td>NaN</td>\n",
       "      <td>1118.5</td>\n",
       "      <td>NaN</td>\n",
       "      <td>NaN</td>\n",
       "      <td>NaN</td>\n",
       "      <td>1296.2</td>\n",
       "      <td>NaN</td>\n",
       "      <td>NaN</td>\n",
       "      <td>NaN</td>\n",
       "      <td>NaN</td>\n",
       "      <td>NaN</td>\n",
       "      <td>EIA-860, EIA-860M and EIA-923</td>\n",
       "      <td>202305.0</td>\n",
       "      <td>-88.010300</td>\n",
       "      <td>31.006900</td>\n",
       "    </tr>\n",
       "  </tbody>\n",
       "</table>\n",
       "</div>"
      ],
      "text/plain": [
       "  objectid plant_code    plant_name utility_id  \\\n",
       "0    11570          1    Sand Point      63560   \n",
       "1    11571          2  Bankhead Dam        195   \n",
       "2    11572          3         Barry        195   \n",
       "\n",
       "                     utility_name       sector_name       street_address  \\\n",
       "0  TDX Sand Point Generating, LLC  Electric Utility  100 Power Plant Way   \n",
       "1                Alabama Power Co  Electric Utility   19001 Lock 17 Road   \n",
       "2                Alabama Power Co  Electric Utility     North Highway 43   \n",
       "\n",
       "         city          county    state      zip     primsource  \\\n",
       "0  Sand Point  Aleutians East   Alaska  99661.0      petroleum   \n",
       "1   Northport      Tuscaloosa  Alabama  35476.0  hydroelectric   \n",
       "2       Bucks          Mobile  Alabama  36512.0    natural gas   \n",
       "\n",
       "                                 source_desc  \\\n",
       "0          Petroleum = 1.3 MW, Wind = 0.4 MW   \n",
       "1                      Hydroelectric = 53 MW   \n",
       "2  Coal = 1118.5 MW, Natural Gas = 1296.2 MW   \n",
       "\n",
       "                                           tech_desc  install_mw  total_mw  \\\n",
       "0           Petroleum Liquids; Onshore Wind Turbine;         3.7       1.7   \n",
       "1                         Conventional Hydroelectric        53.9      53.0   \n",
       "2  Conventional Steam Coal; Natural Gas Fired Com...      2569.5    2414.7   \n",
       "\n",
       "   bat_mw  bio_mw  coal_mw  geo_mw  hydro_mw  hydrops_mw   ng_mw nuclear_mw  \\\n",
       "0     NaN     NaN      NaN     NaN       NaN         NaN     NaN        NaN   \n",
       "1     NaN     NaN      NaN     NaN      53.0         NaN     NaN        NaN   \n",
       "2     NaN     NaN   1118.5     NaN       NaN         NaN  1296.2        NaN   \n",
       "\n",
       "   crude_mw  solar_mw  wind_mw  other_mw                         source  \\\n",
       "0       1.3       NaN      0.4       NaN  EIA-860, EIA-860M and EIA-923   \n",
       "1       NaN       NaN      NaN       NaN  EIA-860, EIA-860M and EIA-923   \n",
       "2       NaN       NaN      NaN       NaN  EIA-860, EIA-860M and EIA-923   \n",
       "\n",
       "     period   longitude   latitude  \n",
       "0  202305.0 -160.497222  55.339722  \n",
       "1  202305.0  -87.356823  33.458665  \n",
       "2  202305.0  -88.010300  31.006900  "
      ]
     },
     "execution_count": 3,
     "metadata": {},
     "output_type": "execute_result"
    }
   ],
   "source": [
    "# Import power plants data\n",
    "URL = 'https://raw.githubusercontent.com/carmengg/eds-220-book/refs/heads/main/data/power_plants_epsg4269.csv'\n",
    "power_plants = pd.read_csv(URL)\n",
    "\n",
    "# Simpify column names\n",
    "power_plants.columns = power_plants.columns.str.lower()\n",
    "\n",
    "# Drop first column\n",
    "power_plants = power_plants.drop(columns='unnamed: 0')\n",
    "\n",
    "power_plants.head(3)"
   ]
  },
  {
   "cell_type": "code",
   "execution_count": 4,
   "id": "561b99ba-40f4-480f-8c62-a6720f469827",
   "metadata": {
    "tags": []
   },
   "outputs": [],
   "source": [
    "# Create points from latitude and longitude\n",
    "points = gpd.points_from_xy(power_plants.longitude, \n",
    "                            power_plants.latitude)\n",
    "\n",
    "# Create geodataframe\n",
    "power_plants = gpd.GeoDataFrame(power_plants,    # Data\n",
    "                                geometry=points, # Specify geometry column\n",
    "                                crs='EPSG:4269'  # Specify CRS\n",
    "                                )"
   ]
  },
  {
   "cell_type": "markdown",
   "id": "3d073db9-6a2d-4e2a-8104-5cd46f93ce99",
   "metadata": {},
   "source": [
    "Remember we are working with two datasets"
   ]
  },
  {
   "cell_type": "code",
   "execution_count": 5,
   "id": "81823401-1a48-4839-82af-10dba195c101",
   "metadata": {
    "tags": []
   },
   "outputs": [
    {
     "data": {
      "text/html": [
       "<div>\n",
       "<style scoped>\n",
       "    .dataframe tbody tr th:only-of-type {\n",
       "        vertical-align: middle;\n",
       "    }\n",
       "\n",
       "    .dataframe tbody tr th {\n",
       "        vertical-align: top;\n",
       "    }\n",
       "\n",
       "    .dataframe thead th {\n",
       "        text-align: right;\n",
       "    }\n",
       "</style>\n",
       "<table border=\"1\" class=\"dataframe\">\n",
       "  <thead>\n",
       "    <tr style=\"text-align: right;\">\n",
       "      <th></th>\n",
       "      <th>objectid</th>\n",
       "      <th>plant_code</th>\n",
       "      <th>plant_name</th>\n",
       "      <th>utility_id</th>\n",
       "      <th>utility_name</th>\n",
       "      <th>sector_name</th>\n",
       "      <th>street_address</th>\n",
       "      <th>city</th>\n",
       "      <th>county</th>\n",
       "      <th>state</th>\n",
       "      <th>zip</th>\n",
       "      <th>primsource</th>\n",
       "      <th>source_desc</th>\n",
       "      <th>tech_desc</th>\n",
       "      <th>install_mw</th>\n",
       "      <th>total_mw</th>\n",
       "      <th>bat_mw</th>\n",
       "      <th>bio_mw</th>\n",
       "      <th>coal_mw</th>\n",
       "      <th>geo_mw</th>\n",
       "      <th>hydro_mw</th>\n",
       "      <th>hydrops_mw</th>\n",
       "      <th>ng_mw</th>\n",
       "      <th>nuclear_mw</th>\n",
       "      <th>crude_mw</th>\n",
       "      <th>solar_mw</th>\n",
       "      <th>wind_mw</th>\n",
       "      <th>other_mw</th>\n",
       "      <th>source</th>\n",
       "      <th>period</th>\n",
       "      <th>longitude</th>\n",
       "      <th>latitude</th>\n",
       "      <th>geometry</th>\n",
       "    </tr>\n",
       "  </thead>\n",
       "  <tbody>\n",
       "    <tr>\n",
       "      <th>0</th>\n",
       "      <td>11570</td>\n",
       "      <td>1</td>\n",
       "      <td>Sand Point</td>\n",
       "      <td>63560</td>\n",
       "      <td>TDX Sand Point Generating, LLC</td>\n",
       "      <td>Electric Utility</td>\n",
       "      <td>100 Power Plant Way</td>\n",
       "      <td>Sand Point</td>\n",
       "      <td>Aleutians East</td>\n",
       "      <td>Alaska</td>\n",
       "      <td>99661.0</td>\n",
       "      <td>petroleum</td>\n",
       "      <td>Petroleum = 1.3 MW, Wind = 0.4 MW</td>\n",
       "      <td>Petroleum Liquids; Onshore Wind Turbine;</td>\n",
       "      <td>3.7</td>\n",
       "      <td>1.7</td>\n",
       "      <td>NaN</td>\n",
       "      <td>NaN</td>\n",
       "      <td>NaN</td>\n",
       "      <td>NaN</td>\n",
       "      <td>NaN</td>\n",
       "      <td>NaN</td>\n",
       "      <td>NaN</td>\n",
       "      <td>NaN</td>\n",
       "      <td>1.3</td>\n",
       "      <td>NaN</td>\n",
       "      <td>0.4</td>\n",
       "      <td>NaN</td>\n",
       "      <td>EIA-860, EIA-860M and EIA-923</td>\n",
       "      <td>202305.0</td>\n",
       "      <td>-160.497222</td>\n",
       "      <td>55.339722</td>\n",
       "      <td>POINT (-160.49722 55.33972)</td>\n",
       "    </tr>\n",
       "    <tr>\n",
       "      <th>1</th>\n",
       "      <td>11571</td>\n",
       "      <td>2</td>\n",
       "      <td>Bankhead Dam</td>\n",
       "      <td>195</td>\n",
       "      <td>Alabama Power Co</td>\n",
       "      <td>Electric Utility</td>\n",
       "      <td>19001 Lock 17 Road</td>\n",
       "      <td>Northport</td>\n",
       "      <td>Tuscaloosa</td>\n",
       "      <td>Alabama</td>\n",
       "      <td>35476.0</td>\n",
       "      <td>hydroelectric</td>\n",
       "      <td>Hydroelectric = 53 MW</td>\n",
       "      <td>Conventional Hydroelectric</td>\n",
       "      <td>53.9</td>\n",
       "      <td>53.0</td>\n",
       "      <td>NaN</td>\n",
       "      <td>NaN</td>\n",
       "      <td>NaN</td>\n",
       "      <td>NaN</td>\n",
       "      <td>53.0</td>\n",
       "      <td>NaN</td>\n",
       "      <td>NaN</td>\n",
       "      <td>NaN</td>\n",
       "      <td>NaN</td>\n",
       "      <td>NaN</td>\n",
       "      <td>NaN</td>\n",
       "      <td>NaN</td>\n",
       "      <td>EIA-860, EIA-860M and EIA-923</td>\n",
       "      <td>202305.0</td>\n",
       "      <td>-87.356823</td>\n",
       "      <td>33.458665</td>\n",
       "      <td>POINT (-87.35682 33.45867)</td>\n",
       "    </tr>\n",
       "    <tr>\n",
       "      <th>2</th>\n",
       "      <td>11572</td>\n",
       "      <td>3</td>\n",
       "      <td>Barry</td>\n",
       "      <td>195</td>\n",
       "      <td>Alabama Power Co</td>\n",
       "      <td>Electric Utility</td>\n",
       "      <td>North Highway 43</td>\n",
       "      <td>Bucks</td>\n",
       "      <td>Mobile</td>\n",
       "      <td>Alabama</td>\n",
       "      <td>36512.0</td>\n",
       "      <td>natural gas</td>\n",
       "      <td>Coal = 1118.5 MW, Natural Gas = 1296.2 MW</td>\n",
       "      <td>Conventional Steam Coal; Natural Gas Fired Com...</td>\n",
       "      <td>2569.5</td>\n",
       "      <td>2414.7</td>\n",
       "      <td>NaN</td>\n",
       "      <td>NaN</td>\n",
       "      <td>1118.5</td>\n",
       "      <td>NaN</td>\n",
       "      <td>NaN</td>\n",
       "      <td>NaN</td>\n",
       "      <td>1296.2</td>\n",
       "      <td>NaN</td>\n",
       "      <td>NaN</td>\n",
       "      <td>NaN</td>\n",
       "      <td>NaN</td>\n",
       "      <td>NaN</td>\n",
       "      <td>EIA-860, EIA-860M and EIA-923</td>\n",
       "      <td>202305.0</td>\n",
       "      <td>-88.010300</td>\n",
       "      <td>31.006900</td>\n",
       "      <td>POINT (-88.01030 31.00690)</td>\n",
       "    </tr>\n",
       "    <tr>\n",
       "      <th>3</th>\n",
       "      <td>11573</td>\n",
       "      <td>4</td>\n",
       "      <td>Walter Bouldin Dam</td>\n",
       "      <td>195</td>\n",
       "      <td>Alabama Power Co</td>\n",
       "      <td>Electric Utility</td>\n",
       "      <td>750 Bouldin Dam Road</td>\n",
       "      <td>Wetumpka</td>\n",
       "      <td>Elmore</td>\n",
       "      <td>Alabama</td>\n",
       "      <td>36092.0</td>\n",
       "      <td>hydroelectric</td>\n",
       "      <td>Hydroelectric = 224.1 MW</td>\n",
       "      <td>Conventional Hydroelectric</td>\n",
       "      <td>225.0</td>\n",
       "      <td>224.1</td>\n",
       "      <td>NaN</td>\n",
       "      <td>NaN</td>\n",
       "      <td>NaN</td>\n",
       "      <td>NaN</td>\n",
       "      <td>224.1</td>\n",
       "      <td>NaN</td>\n",
       "      <td>NaN</td>\n",
       "      <td>NaN</td>\n",
       "      <td>NaN</td>\n",
       "      <td>NaN</td>\n",
       "      <td>NaN</td>\n",
       "      <td>NaN</td>\n",
       "      <td>EIA-860, EIA-860M and EIA-923</td>\n",
       "      <td>202305.0</td>\n",
       "      <td>-86.283056</td>\n",
       "      <td>32.583889</td>\n",
       "      <td>POINT (-86.28306 32.58389)</td>\n",
       "    </tr>\n",
       "    <tr>\n",
       "      <th>4</th>\n",
       "      <td>11574</td>\n",
       "      <td>9</td>\n",
       "      <td>Copper</td>\n",
       "      <td>5701</td>\n",
       "      <td>El Paso Electric Co</td>\n",
       "      <td>Electric Utility</td>\n",
       "      <td>651 Hawkins Blvd.</td>\n",
       "      <td>El Paso</td>\n",
       "      <td>El Paso</td>\n",
       "      <td>Texas</td>\n",
       "      <td>79915.0</td>\n",
       "      <td>natural gas</td>\n",
       "      <td>Natural Gas = 63 MW</td>\n",
       "      <td>Natural Gas Fired Combustion Turbine</td>\n",
       "      <td>86.9</td>\n",
       "      <td>63.0</td>\n",
       "      <td>NaN</td>\n",
       "      <td>NaN</td>\n",
       "      <td>NaN</td>\n",
       "      <td>NaN</td>\n",
       "      <td>NaN</td>\n",
       "      <td>NaN</td>\n",
       "      <td>63.0</td>\n",
       "      <td>NaN</td>\n",
       "      <td>NaN</td>\n",
       "      <td>NaN</td>\n",
       "      <td>NaN</td>\n",
       "      <td>NaN</td>\n",
       "      <td>EIA-860, EIA-860M and EIA-923</td>\n",
       "      <td>202305.0</td>\n",
       "      <td>-106.375000</td>\n",
       "      <td>31.756900</td>\n",
       "      <td>POINT (-106.37500 31.75690)</td>\n",
       "    </tr>\n",
       "  </tbody>\n",
       "</table>\n",
       "</div>"
      ],
      "text/plain": [
       "  objectid plant_code          plant_name utility_id  \\\n",
       "0    11570          1          Sand Point      63560   \n",
       "1    11571          2        Bankhead Dam        195   \n",
       "2    11572          3               Barry        195   \n",
       "3    11573          4  Walter Bouldin Dam        195   \n",
       "4    11574          9              Copper       5701   \n",
       "\n",
       "                     utility_name       sector_name        street_address  \\\n",
       "0  TDX Sand Point Generating, LLC  Electric Utility   100 Power Plant Way   \n",
       "1                Alabama Power Co  Electric Utility    19001 Lock 17 Road   \n",
       "2                Alabama Power Co  Electric Utility      North Highway 43   \n",
       "3                Alabama Power Co  Electric Utility  750 Bouldin Dam Road   \n",
       "4             El Paso Electric Co  Electric Utility     651 Hawkins Blvd.   \n",
       "\n",
       "         city          county    state      zip     primsource  \\\n",
       "0  Sand Point  Aleutians East   Alaska  99661.0      petroleum   \n",
       "1   Northport      Tuscaloosa  Alabama  35476.0  hydroelectric   \n",
       "2       Bucks          Mobile  Alabama  36512.0    natural gas   \n",
       "3    Wetumpka          Elmore  Alabama  36092.0  hydroelectric   \n",
       "4     El Paso         El Paso    Texas  79915.0    natural gas   \n",
       "\n",
       "                                 source_desc  \\\n",
       "0          Petroleum = 1.3 MW, Wind = 0.4 MW   \n",
       "1                      Hydroelectric = 53 MW   \n",
       "2  Coal = 1118.5 MW, Natural Gas = 1296.2 MW   \n",
       "3                   Hydroelectric = 224.1 MW   \n",
       "4                        Natural Gas = 63 MW   \n",
       "\n",
       "                                           tech_desc  install_mw  total_mw  \\\n",
       "0           Petroleum Liquids; Onshore Wind Turbine;         3.7       1.7   \n",
       "1                         Conventional Hydroelectric        53.9      53.0   \n",
       "2  Conventional Steam Coal; Natural Gas Fired Com...      2569.5    2414.7   \n",
       "3                         Conventional Hydroelectric       225.0     224.1   \n",
       "4               Natural Gas Fired Combustion Turbine        86.9      63.0   \n",
       "\n",
       "   bat_mw  bio_mw  coal_mw  geo_mw  hydro_mw  hydrops_mw   ng_mw nuclear_mw  \\\n",
       "0     NaN     NaN      NaN     NaN       NaN         NaN     NaN        NaN   \n",
       "1     NaN     NaN      NaN     NaN      53.0         NaN     NaN        NaN   \n",
       "2     NaN     NaN   1118.5     NaN       NaN         NaN  1296.2        NaN   \n",
       "3     NaN     NaN      NaN     NaN     224.1         NaN     NaN        NaN   \n",
       "4     NaN     NaN      NaN     NaN       NaN         NaN    63.0        NaN   \n",
       "\n",
       "   crude_mw  solar_mw  wind_mw  other_mw                         source  \\\n",
       "0       1.3       NaN      0.4       NaN  EIA-860, EIA-860M and EIA-923   \n",
       "1       NaN       NaN      NaN       NaN  EIA-860, EIA-860M and EIA-923   \n",
       "2       NaN       NaN      NaN       NaN  EIA-860, EIA-860M and EIA-923   \n",
       "3       NaN       NaN      NaN       NaN  EIA-860, EIA-860M and EIA-923   \n",
       "4       NaN       NaN      NaN       NaN  EIA-860, EIA-860M and EIA-923   \n",
       "\n",
       "     period   longitude   latitude                     geometry  \n",
       "0  202305.0 -160.497222  55.339722  POINT (-160.49722 55.33972)  \n",
       "1  202305.0  -87.356823  33.458665   POINT (-87.35682 33.45867)  \n",
       "2  202305.0  -88.010300  31.006900   POINT (-88.01030 31.00690)  \n",
       "3  202305.0  -86.283056  32.583889   POINT (-86.28306 32.58389)  \n",
       "4  202305.0 -106.375000  31.756900  POINT (-106.37500 31.75690)  "
      ]
     },
     "execution_count": 5,
     "metadata": {},
     "output_type": "execute_result"
    }
   ],
   "source": [
    "power_plants.head()"
   ]
  },
  {
   "cell_type": "code",
   "execution_count": 6,
   "id": "03db376d-84a6-4c84-8137-eb8185cffaba",
   "metadata": {
    "tags": []
   },
   "outputs": [
    {
     "data": {
      "text/plain": [
       "<AxesSubplot:>"
      ]
     },
     "execution_count": 6,
     "metadata": {},
     "output_type": "execute_result"
    },
    {
     "data": {
      "image/png": "[encoded data removed]",
      "text/plain": [
       "<Figure size 640x480 with 1 Axes>"
      ]
     },
     "metadata": {},
     "output_type": "display_data"
    }
   ],
   "source": [
    "power_plants.plot()"
   ]
  },
  {
   "cell_type": "markdown",
   "id": "9ad22143-5c97-44a8-a332-481a5de0bdce",
   "metadata": {},
   "source": [
    "## f-strings"
   ]
  },
  {
   "cell_type": "markdown",
   "id": "08538e69-6446-4fe1-a548-3c2af3f12871",
   "metadata": {
    "tags": []
   },
   "source": [
    "So far we have printed variables using string concatenation inside the print() function: we use commas to separate every variable and string that we want to print. Example:"
   ]
  },
  {
   "cell_type": "code",
   "execution_count": 7,
   "id": "44f690f4-824d-4f04-962c-ceb015204521",
   "metadata": {
    "tags": []
   },
   "outputs": [
    {
     "name": "stdout",
     "output_type": "stream",
     "text": [
      "CRS EPSG:4269\n"
     ]
    }
   ],
   "source": [
    "print('CRS', power_plants.crs)"
   ]
  },
  {
   "cell_type": "markdown",
   "id": "55a2371b-aa93-4b8a-a591-28f3e0f57dd3",
   "metadata": {},
   "source": [
    "Another popular way to mix variables and strings in a print statement is by creating an f-string, stands for formatting string\n",
    "\n",
    "simplest syntax\n",
    "\n",
    "fsome text `{replace}`\n",
    "where replace can be a variable, an expression, a function or method call"
   ]
  },
  {
   "cell_type": "code",
   "execution_count": 8,
   "id": "6a490473-a55a-4e5a-8dbe-5a5607767d88",
   "metadata": {
    "tags": []
   },
   "outputs": [
    {
     "data": {
      "text/plain": [
       "'ellipsoid GRS 1980'"
      ]
     },
     "execution_count": 8,
     "metadata": {},
     "output_type": "execute_result"
    }
   ],
   "source": [
    "# Check what is the ellipsoid\n",
    "f\"ellipsoid {power_plants.crs.ellipsoid}\""
   ]
  },
  {
   "cell_type": "code",
   "execution_count": 9,
   "id": "fa897ed2-2ed9-4efd-af41-b19596e6837e",
   "metadata": {},
   "outputs": [
    {
     "name": "stdout",
     "output_type": "stream",
     "text": [
      "datum: North American Datum 1983\n"
     ]
    }
   ],
   "source": [
    "# Use f strings inside the print function\n",
    "print(f\"datum: {power_plants.crs.datum}\")"
   ]
  },
  {
   "cell_type": "code",
   "execution_count": 10,
   "id": "da6b4c04-e52e-4136-a7a2-d1db21276cd7",
   "metadata": {},
   "outputs": [
    {
     "name": "stdout",
     "output_type": "stream",
     "text": [
      "Is the CRS geographic?    True\n"
     ]
    }
   ],
   "source": [
    "# set the label width to 25 characters, aligning the answers\n",
    "print(f\"{'Is the CRS geographic?': <25} {power_plants.crs.is_geographic}\")"
   ]
  },
  {
   "cell_type": "code",
   "execution_count": 11,
   "id": "78b5103a-12e7-45c4-85ab-cbd7a530679a",
   "metadata": {},
   "outputs": [
    {
     "name": "stdout",
     "output_type": "stream",
     "text": [
      "Is the CRS projected?     False\n"
     ]
    }
   ],
   "source": [
    "print(f\"{'Is the CRS projected?': <25} {power_plants.crs.is_projected}\")"
   ]
  },
  {
   "cell_type": "code",
   "execution_count": 12,
   "id": "b04338ea-d882-4919-aa64-f8cd82f7c235",
   "metadata": {
    "tags": []
   },
   "outputs": [
    {
     "data": {
      "text/plain": [
       "'/Users/kjwong/MEDS/eds_220_enviro_data/eds220-2024-in-class'"
      ]
     },
     "execution_count": 12,
     "metadata": {},
     "output_type": "execute_result"
    }
   ],
   "source": [
    "os.getcwd()"
   ]
  },
  {
   "cell_type": "code",
   "execution_count": 15,
   "id": "735d4600-cdb9-43fb-8a59-80dfcd5382e7",
   "metadata": {
    "tags": []
   },
   "outputs": [
    {
     "name": "stderr",
     "output_type": "stream",
     "text": [
      "ERROR 1: PROJ: proj_create_from_database: Open of /opt/anaconda3/share/proj failed\n"
     ]
    },
    {
     "data": {
      "text/html": [
       "<div>\n",
       "<style scoped>\n",
       "    .dataframe tbody tr th:only-of-type {\n",
       "        vertical-align: middle;\n",
       "    }\n",
       "\n",
       "    .dataframe tbody tr th {\n",
       "        vertical-align: top;\n",
       "    }\n",
       "\n",
       "    .dataframe thead th {\n",
       "        text-align: right;\n",
       "    }\n",
       "</style>\n",
       "<table border=\"1\" class=\"dataframe\">\n",
       "  <thead>\n",
       "    <tr style=\"text-align: right;\">\n",
       "      <th></th>\n",
       "      <th>region</th>\n",
       "      <th>division</th>\n",
       "      <th>statefp</th>\n",
       "      <th>statens</th>\n",
       "      <th>geoid</th>\n",
       "      <th>stusps</th>\n",
       "      <th>name</th>\n",
       "      <th>lsad</th>\n",
       "      <th>mtfcc</th>\n",
       "      <th>funcstat</th>\n",
       "      <th>aland</th>\n",
       "      <th>awater</th>\n",
       "      <th>intptlat</th>\n",
       "      <th>intptlon</th>\n",
       "      <th>geometry</th>\n",
       "    </tr>\n",
       "  </thead>\n",
       "  <tbody>\n",
       "    <tr>\n",
       "      <th>0</th>\n",
       "      <td>3</td>\n",
       "      <td>5</td>\n",
       "      <td>54</td>\n",
       "      <td>01779805</td>\n",
       "      <td>54</td>\n",
       "      <td>WV</td>\n",
       "      <td>West Virginia</td>\n",
       "      <td>00</td>\n",
       "      <td>G4000</td>\n",
       "      <td>A</td>\n",
       "      <td>62266456923</td>\n",
       "      <td>489045863</td>\n",
       "      <td>+38.6472854</td>\n",
       "      <td>-080.6183274</td>\n",
       "      <td>POLYGON ((-77.75438 39.33346, -77.75422 39.333...</td>\n",
       "    </tr>\n",
       "    <tr>\n",
       "      <th>1</th>\n",
       "      <td>3</td>\n",
       "      <td>5</td>\n",
       "      <td>12</td>\n",
       "      <td>00294478</td>\n",
       "      <td>12</td>\n",
       "      <td>FL</td>\n",
       "      <td>Florida</td>\n",
       "      <td>00</td>\n",
       "      <td>G4000</td>\n",
       "      <td>A</td>\n",
       "      <td>138962819934</td>\n",
       "      <td>45971472526</td>\n",
       "      <td>+28.3989775</td>\n",
       "      <td>-082.5143005</td>\n",
       "      <td>MULTIPOLYGON (((-83.10874 24.62949, -83.10711 ...</td>\n",
       "    </tr>\n",
       "    <tr>\n",
       "      <th>2</th>\n",
       "      <td>2</td>\n",
       "      <td>3</td>\n",
       "      <td>17</td>\n",
       "      <td>01779784</td>\n",
       "      <td>17</td>\n",
       "      <td>IL</td>\n",
       "      <td>Illinois</td>\n",
       "      <td>00</td>\n",
       "      <td>G4000</td>\n",
       "      <td>A</td>\n",
       "      <td>143778515726</td>\n",
       "      <td>6216539665</td>\n",
       "      <td>+40.1028754</td>\n",
       "      <td>-089.1526108</td>\n",
       "      <td>POLYGON ((-87.89243 38.28285, -87.89334 38.282...</td>\n",
       "    </tr>\n",
       "    <tr>\n",
       "      <th>3</th>\n",
       "      <td>2</td>\n",
       "      <td>4</td>\n",
       "      <td>27</td>\n",
       "      <td>00662849</td>\n",
       "      <td>27</td>\n",
       "      <td>MN</td>\n",
       "      <td>Minnesota</td>\n",
       "      <td>00</td>\n",
       "      <td>G4000</td>\n",
       "      <td>A</td>\n",
       "      <td>206244837557</td>\n",
       "      <td>18937184315</td>\n",
       "      <td>+46.3159573</td>\n",
       "      <td>-094.1996043</td>\n",
       "      <td>POLYGON ((-95.31989 48.99892, -95.31747 48.998...</td>\n",
       "    </tr>\n",
       "    <tr>\n",
       "      <th>4</th>\n",
       "      <td>3</td>\n",
       "      <td>5</td>\n",
       "      <td>24</td>\n",
       "      <td>01714934</td>\n",
       "      <td>24</td>\n",
       "      <td>MD</td>\n",
       "      <td>Maryland</td>\n",
       "      <td>00</td>\n",
       "      <td>G4000</td>\n",
       "      <td>A</td>\n",
       "      <td>25151771744</td>\n",
       "      <td>6979295311</td>\n",
       "      <td>+38.9466584</td>\n",
       "      <td>-076.6744939</td>\n",
       "      <td>POLYGON ((-75.75600 39.24607, -75.75579 39.243...</td>\n",
       "    </tr>\n",
       "  </tbody>\n",
       "</table>\n",
       "</div>"
      ],
      "text/plain": [
       "  region division statefp   statens geoid stusps           name lsad  mtfcc  \\\n",
       "0      3        5      54  01779805    54     WV  West Virginia   00  G4000   \n",
       "1      3        5      12  00294478    12     FL        Florida   00  G4000   \n",
       "2      2        3      17  01779784    17     IL       Illinois   00  G4000   \n",
       "3      2        4      27  00662849    27     MN      Minnesota   00  G4000   \n",
       "4      3        5      24  01714934    24     MD       Maryland   00  G4000   \n",
       "\n",
       "  funcstat         aland       awater     intptlat      intptlon  \\\n",
       "0        A   62266456923    489045863  +38.6472854  -080.6183274   \n",
       "1        A  138962819934  45971472526  +28.3989775  -082.5143005   \n",
       "2        A  143778515726   6216539665  +40.1028754  -089.1526108   \n",
       "3        A  206244837557  18937184315  +46.3159573  -094.1996043   \n",
       "4        A   25151771744   6979295311  +38.9466584  -076.6744939   \n",
       "\n",
       "                                            geometry  \n",
       "0  POLYGON ((-77.75438 39.33346, -77.75422 39.333...  \n",
       "1  MULTIPOLYGON (((-83.10874 24.62949, -83.10711 ...  \n",
       "2  POLYGON ((-87.89243 38.28285, -87.89334 38.282...  \n",
       "3  POLYGON ((-95.31989 48.99892, -95.31747 48.998...  \n",
       "4  POLYGON ((-75.75600 39.24607, -75.75579 39.243...  "
      ]
     },
     "execution_count": 15,
     "metadata": {},
     "output_type": "execute_result"
    }
   ],
   "source": [
    "# create absolute file path\n",
    "fp = os.path.join('/', 'courses', 'EDS220',\n",
    "                 'data',\n",
    "                 'tl_2022_us_state',\n",
    "                 'tl_2022_us_state.shp')\n",
    "\n",
    "states = gpd.read_file(fp)\n",
    "\n",
    "# simplify column names\n",
    "states.columns = states.columns.str.lower()\n",
    "\n",
    "states.head()"
   ]
  },
  {
   "cell_type": "code",
   "execution_count": 16,
   "id": "e41d626e-3240-4bae-a566-69ba8ef5fd06",
   "metadata": {
    "tags": []
   },
   "outputs": [
    {
     "name": "stdout",
     "output_type": "stream",
     "text": [
      "epsg:4269\n"
     ]
    },
    {
     "data": {
      "text/plain": [
       "<AxesSubplot:>"
      ]
     },
     "execution_count": 16,
     "metadata": {},
     "output_type": "execute_result"
    },
    {
     "data": {
      "image/png": "[encoded data removed]",
      "text/plain": [
       "<Figure size 640x480 with 1 Axes>"
      ]
     },
     "metadata": {},
     "output_type": "display_data"
    }
   ],
   "source": [
    "print(states.crs)\n",
    "states.plot()"
   ]
  },
  {
   "cell_type": "markdown",
   "id": "7309289a-c16e-43d3-bd60-3271289b7788",
   "metadata": {},
   "source": [
    "`for` loops\n",
    "\n",
    "It can be easier to work with the codes as numbers instead of strings, let's update the corresponding columns in the geo-dataframe: `region`, `division`, `statefp`\n",
    "\n",
    "First thing, check if these columns are strings"
   ]
  },
  {
   "cell_type": "code",
   "execution_count": 17,
   "id": "e4cb853c-ca6d-4a79-93a1-0f484c2b7f2d",
   "metadata": {
    "tags": []
   },
   "outputs": [
    {
     "name": "stdout",
     "output_type": "stream",
     "text": [
      "region is string dtype? True\n",
      "division is string dtype? True\n",
      "statefp is string dtype? True\n"
     ]
    }
   ],
   "source": [
    "print(f\"region is string dtype? {is_string_dtype(states['region'])}\")\n",
    "print(f\"division is string dtype? {is_string_dtype(states['division'])}\")\n",
    "print(f\"statefp is string dtype? {is_string_dtype(states['statefp'])}\")"
   ]
  },
  {
   "cell_type": "markdown",
   "id": "8c45530a-dc5c-42ae-af21-eb4e85fdf859",
   "metadata": {},
   "source": [
    "This is inconvenient because it repeats the same piece of code, only changing the column name Instead using for loop allows us to succinctly print the same info"
   ]
  },
  {
   "cell_type": "code",
   "execution_count": null,
   "id": "e296aeab-d51d-4131-942a-bc8479bb46f7",
   "metadata": {},
   "outputs": [],
   "source": [
    "code_cols = ['region', 'division', 'statefp']\n",
    "\n",
    "# check whether codes columns are strings\n",
    "for column in code_cols:\n",
    "    print(f\"{column} is string dtype? {is_string_dtype(states[column])}\")"
   ]
  },
  {
   "cell_type": "markdown",
   "id": "1d4df100-8327-4111-83f2-e47253374970",
   "metadata": {},
   "source": [
    "`for` loops execute a block of code a fixed number of times, iterating over a set of objects. In this case, we iterate over the list of column names\n",
    "\n",
    "**DRY code**\n",
    "\n",
    "DRY = don't repeat yourself is a core programming principle that encourages reducing redundancy and consolidating repeated logic. If you need to repeat the \"same\" code more than twice, you probably need a for loop\n",
    "\n",
    "Next, update data types of the code columns to be integers. This time we are going to verify the data type of the column using the is_numeric_dtype() and assert statement:"
   ]
  },
  {
   "cell_type": "code",
   "execution_count": null,
   "id": "7d694316-d842-453e-9e82-6c6970d449d1",
   "metadata": {},
   "outputs": [],
   "source": [
    "# Update code_columns into integers\n",
    "for column in code_cols:\n",
    "    states[column] = states[column].astype('int')\n",
    "    assert is_numeric_dtype(states[column]) # chck the conversion"
   ]
  },
  {
   "cell_type": "markdown",
   "id": "adaafc72-78d3-41c2-95b2-6255e300fe58",
   "metadata": {},
   "source": [
    "\n",
    "The `assert` keyword does nothing if the expression next to it evaluates to true\n",
    "\n",
    "if the expression evaluates to false, then assert raises an `AssertionError` and stops your code from running"
   ]
  },
  {
   "cell_type": "code",
   "execution_count": null,
   "id": "8ee49399-dea8-4f29-9436-6218f9fa6d6c",
   "metadata": {},
   "outputs": [],
   "source": [
    "# does nothing if statement is true\n",
    "assert 2 + 2 == 4"
   ]
  },
  {
   "cell_type": "code",
   "execution_count": null,
   "id": "580aaa64-0d64-465d-8220-817939624bdd",
   "metadata": {},
   "outputs": [],
   "source": [
    "# gives error if statement is false\n",
    "assert 2 + 2 == 3"
   ]
  },
  {
   "cell_type": "markdown",
   "id": "463b28ba-aab7-48cc-b355-01d2d72d9112",
   "metadata": {},
   "source": [
    "## Data selection\n",
    "\n",
    "for this lesson, we want to use only the contiguous states. The states geodataframe covers a bigger extension"
   ]
  },
  {
   "cell_type": "code",
   "execution_count": null,
   "id": "976f38a2-1177-4e6e-8067-afb697d68ac7",
   "metadata": {},
   "outputs": [],
   "source": [
    "states.plot()"
   ]
  },
  {
   "cell_type": "markdown",
   "id": "631c097c-a717-424c-88e4-9bec687e47d6",
   "metadata": {},
   "source": [
    "## Check-in\n",
    "\n",
    "- what are the unique values for region, division, or state codes in the data\n",
    "- which codes should we select to keep only states in the continuous US?"
   ]
  },
  {
   "cell_type": "code",
   "execution_count": null,
   "id": "2b496fa9-3e58-4dbb-b50b-c06e9898aaa0",
   "metadata": {},
   "outputs": [],
   "source": [
    "for column in code_cols:\n",
    "    print(f\"{column}'s unique values' {(states[column]).unique()}\")"
   ]
  },
  {
   "cell_type": "code",
   "execution_count": 67,
   "id": "a60669c9-906e-4ef3-9a95-8672275997d6",
   "metadata": {
    "tags": []
   },
   "outputs": [],
   "source": [
    "\n",
    "# Select contiguous US states\n",
    "contiguous = states[ (states.region !=9) & (~states.statefp.isin([2,15]))]"
   ]
  },
  {
   "cell_type": "markdown",
   "id": "ed8e5ee3-63f1-4375-8a34-c13900416f5b",
   "metadata": {},
   "source": [
    "The `~` symbol is use in python to negate the statement"
   ]
  },
  {
   "cell_type": "code",
   "execution_count": 68,
   "id": "40862b7a-16f9-4980-911c-4ed57f6651ea",
   "metadata": {
    "tags": []
   },
   "outputs": [],
   "source": [
    "power_plants = power_plants[~power_plants.state.isin(['Puerto Rico', 'Hawaii', 'Alaska'])]"
   ]
  },
  {
   "cell_type": "code",
   "execution_count": 69,
   "id": "ccffabdf-5f84-4d29-9cc7-1a00b45b9652",
   "metadata": {
    "tags": []
   },
   "outputs": [
    {
     "data": {
      "text/plain": [
       "True"
      ]
     },
     "execution_count": 69,
     "metadata": {},
     "output_type": "execute_result"
    }
   ],
   "source": [
    "contiguous.crs == power_plants.crs"
   ]
  },
  {
   "cell_type": "code",
   "execution_count": 70,
   "id": "7e6f25bf-0dff-4106-9576-c9e4975c145e",
   "metadata": {
    "tags": []
   },
   "outputs": [
    {
     "data": {
      "image/png": "[encoded data removed]",
      "text/plain": [
       "<Figure size 900x500 with 1 Axes>"
      ]
     },
     "metadata": {},
     "output_type": "display_data"
    }
   ],
   "source": [
    "fig, ax = plt.subplots(figsize=(9, 5)) # Update figure size\n",
    "\n",
    "# remove axis for a cleaner map\n",
    "ax.axis('off')\n",
    "\n",
    "ax.set_title('Operable electric generating plants in the contiguous US', fontsize=15)\n",
    "contiguous.plot(ax=ax,\n",
    "               color ='none',\n",
    "               edgecolor='grey')\n",
    "\n",
    "power_plants.plot(ax=ax,\n",
    "                 column=\"primsource\", # color by values in this column\n",
    "                  legend =True,\n",
    "                  markersize=4,\n",
    "                  cmap='tab20',\n",
    "                  alpha=0.5,\n",
    "                 legend_kwds={ # kwds stands for keywords\n",
    "                    'title':'Primary Energy Source',\n",
    "                     'title_fontsize': 'small',\n",
    "                     'loc': 'upper left',\n",
    "                     'bbox_to_anchor': (0,0),\n",
    "                     'ncol':6\n",
    "                 })\n",
    "plt.show()"
   ]
  },
  {
   "cell_type": "markdown",
   "id": "d4b1e206-75d4-40a1-a1ee-7ca25748e33a",
   "metadata": {},
   "source": [
    "We controlled the legend location using `loc` and `bbox_to_anchor` in the `legend_kwds`\n",
    "\n",
    "- `loc` indicates the corner of the legend we want to use for placement\n",
    "- `bbox_to_anchor` is a tuple with coordinates indicating where to place the corner specified in `loc relative` to the axes.\n",
    "- Values between 0 and 1 are within the axes."
   ]
  },
  {
   "cell_type": "markdown",
   "id": "2445b881-3e00-44e3-af88-0ff8c9a509c6",
   "metadata": {},
   "source": [
    "## `for` with `zip`\n",
    "\n",
    "Often, we need to iterate simultaneously over two lists (or iterables).\n",
    "\n",
    "`zip()` is a Python function that allows you to combine two lists so that you can iterate over their elements in pairs. When use in a `for` loop it allows you to process elements of each list together.\n",
    "\n",
    "Example:"
   ]
  },
  {
   "cell_type": "code",
   "execution_count": 8,
   "id": "f91e7917-3bee-422d-8e56-3eafdc10ecef",
   "metadata": {
    "tags": []
   },
   "outputs": [
    {
     "name": "stdout",
     "output_type": "stream",
     "text": [
      "1\n",
      "2\n",
      "3\n"
     ]
    }
   ],
   "source": [
    "# Iterate over a single list\n",
    "numbers = [1,2,3]\n",
    "for num in numbers:\n",
    "    print(num)"
   ]
  },
  {
   "cell_type": "code",
   "execution_count": 9,
   "id": "57cc7623-f607-4da3-9876-47e93072587e",
   "metadata": {
    "tags": []
   },
   "outputs": [
    {
     "name": "stdout",
     "output_type": "stream",
     "text": [
      "1 a\n",
      "2 b\n",
      "3 c\n"
     ]
    }
   ],
   "source": [
    "# Iterate over two lists in pairs using zip()\n",
    "letters = ['a', 'b', 'c']\n",
    "for num, letter in zip(numbers, letters):\n",
    "    print(num, letter)"
   ]
  },
  {
   "cell_type": "markdown",
   "id": "8173cbe9-dd40-46f6-8057-ee0196754203",
   "metadata": {},
   "source": [
    "Example: with `matplotlib`.\n",
    "A common situation when code gets repeated is when creating subplots."
   ]
  },
  {
   "cell_type": "code",
   "execution_count": 13,
   "id": "eea92e4f-d345-4b27-81f3-ae7e32838de5",
   "metadata": {
    "tags": []
   },
   "outputs": [
    {
     "data": {
      "image/png": "[encoded data removed]",
      "text/plain": [
       "<Figure size 700x300 with 3 Axes>"
      ]
     },
     "metadata": {},
     "output_type": "display_data"
    }
   ],
   "source": [
    "fig, axes = plt.subplots(nrows = 1, ncols = 3, figsize = (7,3))\n",
    "\n",
    "axes[0].set_title('This is axis 0')\n",
    "axes[1].set_title('This is axis 1')\n",
    "axes[2].set_title('This is axis 2')\n",
    "\n",
    "plt.show()"
   ]
  },
  {
   "cell_type": "markdown",
   "id": "be5a767c-6b03-4a50-b639-ad1be219bad1",
   "metadata": {},
   "source": [
    "## Check in\n",
    "\n",
    "use `for` and `zip` to create the same subplots and avoid redundancy"
   ]
  },
  {
   "cell_type": "code",
   "execution_count": 23,
   "id": "3d44aa4e-b8d6-41a4-80e3-171535bbce1f",
   "metadata": {
    "tags": []
   },
   "outputs": [
    {
     "data": {
      "image/png": "[encoded data removed]",
      "text/plain": [
       "<Figure size 700x300 with 3 Axes>"
      ]
     },
     "metadata": {},
     "output_type": "display_data"
    }
   ],
   "source": [
    "fig, axes = plt.subplots(nrows = 1, ncols = 3, figsize = (7,3))\n",
    "\n",
    "for ax, i in zip(axes, [0, 1, 2]):\n",
    "    ax.set_title(f\"This is axis {i}\")"
   ]
  },
  {
   "cell_type": "code",
   "execution_count": 26,
   "id": "b7735c8a-4f8c-4a08-be24-a682e56474e7",
   "metadata": {
    "tags": []
   },
   "outputs": [
    {
     "data": {
      "image/png": "[encoded data removed]",
      "text/plain": [
       "<Figure size 700x300 with 3 Axes>"
      ]
     },
     "metadata": {},
     "output_type": "display_data"
    }
   ],
   "source": [
    "# Another option\n",
    "fig, axes = plt.subplots(nrows = 1, ncols = 3, figsize = (7,3))\n",
    "\n",
    "for i in [0, 1, 2]:\n",
    "    axes[i].set_title(f\"This is axis {i}\")\n",
    "\n",
    "plt.show()"
   ]
  },
  {
   "cell_type": "code",
   "execution_count": 32,
   "id": "0d003cf4-28fa-4b37-ab50-03be08c7faa1",
   "metadata": {
    "tags": []
   },
   "outputs": [
    {
     "data": {
      "text/html": [
       "<div>\n",
       "<style scoped>\n",
       "    .dataframe tbody tr th:only-of-type {\n",
       "        vertical-align: middle;\n",
       "    }\n",
       "\n",
       "    .dataframe tbody tr th {\n",
       "        vertical-align: top;\n",
       "    }\n",
       "\n",
       "    .dataframe thead th {\n",
       "        text-align: right;\n",
       "    }\n",
       "</style>\n",
       "<table border=\"1\" class=\"dataframe\">\n",
       "  <thead>\n",
       "    <tr style=\"text-align: right;\">\n",
       "      <th></th>\n",
       "      <th>objectid</th>\n",
       "      <th>plant_code</th>\n",
       "      <th>plant_name</th>\n",
       "      <th>utility_id</th>\n",
       "      <th>utility_name</th>\n",
       "      <th>sector_name</th>\n",
       "      <th>street_address</th>\n",
       "      <th>city</th>\n",
       "      <th>county</th>\n",
       "      <th>state</th>\n",
       "      <th>zip</th>\n",
       "      <th>primsource</th>\n",
       "      <th>source_desc</th>\n",
       "      <th>tech_desc</th>\n",
       "      <th>install_mw</th>\n",
       "      <th>total_mw</th>\n",
       "      <th>bat_mw</th>\n",
       "      <th>bio_mw</th>\n",
       "      <th>coal_mw</th>\n",
       "      <th>geo_mw</th>\n",
       "      <th>hydro_mw</th>\n",
       "      <th>hydrops_mw</th>\n",
       "      <th>ng_mw</th>\n",
       "      <th>nuclear_mw</th>\n",
       "      <th>crude_mw</th>\n",
       "      <th>solar_mw</th>\n",
       "      <th>wind_mw</th>\n",
       "      <th>other_mw</th>\n",
       "      <th>source</th>\n",
       "      <th>period</th>\n",
       "      <th>longitude</th>\n",
       "      <th>latitude</th>\n",
       "      <th>geometry</th>\n",
       "    </tr>\n",
       "  </thead>\n",
       "  <tbody>\n",
       "    <tr>\n",
       "      <th>0</th>\n",
       "      <td>11570</td>\n",
       "      <td>1</td>\n",
       "      <td>Sand Point</td>\n",
       "      <td>63560</td>\n",
       "      <td>TDX Sand Point Generating, LLC</td>\n",
       "      <td>Electric Utility</td>\n",
       "      <td>100 Power Plant Way</td>\n",
       "      <td>Sand Point</td>\n",
       "      <td>Aleutians East</td>\n",
       "      <td>Alaska</td>\n",
       "      <td>99661.0</td>\n",
       "      <td>petroleum</td>\n",
       "      <td>Petroleum = 1.3 MW, Wind = 0.4 MW</td>\n",
       "      <td>Petroleum Liquids; Onshore Wind Turbine;</td>\n",
       "      <td>3.7</td>\n",
       "      <td>1.7</td>\n",
       "      <td>NaN</td>\n",
       "      <td>NaN</td>\n",
       "      <td>NaN</td>\n",
       "      <td>NaN</td>\n",
       "      <td>NaN</td>\n",
       "      <td>NaN</td>\n",
       "      <td>NaN</td>\n",
       "      <td>NaN</td>\n",
       "      <td>1.3</td>\n",
       "      <td>NaN</td>\n",
       "      <td>0.4</td>\n",
       "      <td>NaN</td>\n",
       "      <td>EIA-860, EIA-860M and EIA-923</td>\n",
       "      <td>202305.0</td>\n",
       "      <td>-160.497222</td>\n",
       "      <td>55.339722</td>\n",
       "      <td>POINT (-160.49722 55.33972)</td>\n",
       "    </tr>\n",
       "    <tr>\n",
       "      <th>1</th>\n",
       "      <td>11571</td>\n",
       "      <td>2</td>\n",
       "      <td>Bankhead Dam</td>\n",
       "      <td>195</td>\n",
       "      <td>Alabama Power Co</td>\n",
       "      <td>Electric Utility</td>\n",
       "      <td>19001 Lock 17 Road</td>\n",
       "      <td>Northport</td>\n",
       "      <td>Tuscaloosa</td>\n",
       "      <td>Alabama</td>\n",
       "      <td>35476.0</td>\n",
       "      <td>hydroelectric</td>\n",
       "      <td>Hydroelectric = 53 MW</td>\n",
       "      <td>Conventional Hydroelectric</td>\n",
       "      <td>53.9</td>\n",
       "      <td>53.0</td>\n",
       "      <td>NaN</td>\n",
       "      <td>NaN</td>\n",
       "      <td>NaN</td>\n",
       "      <td>NaN</td>\n",
       "      <td>53.0</td>\n",
       "      <td>NaN</td>\n",
       "      <td>NaN</td>\n",
       "      <td>NaN</td>\n",
       "      <td>NaN</td>\n",
       "      <td>NaN</td>\n",
       "      <td>NaN</td>\n",
       "      <td>NaN</td>\n",
       "      <td>EIA-860, EIA-860M and EIA-923</td>\n",
       "      <td>202305.0</td>\n",
       "      <td>-87.356823</td>\n",
       "      <td>33.458665</td>\n",
       "      <td>POINT (-87.35682 33.45867)</td>\n",
       "    </tr>\n",
       "    <tr>\n",
       "      <th>2</th>\n",
       "      <td>11572</td>\n",
       "      <td>3</td>\n",
       "      <td>Barry</td>\n",
       "      <td>195</td>\n",
       "      <td>Alabama Power Co</td>\n",
       "      <td>Electric Utility</td>\n",
       "      <td>North Highway 43</td>\n",
       "      <td>Bucks</td>\n",
       "      <td>Mobile</td>\n",
       "      <td>Alabama</td>\n",
       "      <td>36512.0</td>\n",
       "      <td>natural gas</td>\n",
       "      <td>Coal = 1118.5 MW, Natural Gas = 1296.2 MW</td>\n",
       "      <td>Conventional Steam Coal; Natural Gas Fired Com...</td>\n",
       "      <td>2569.5</td>\n",
       "      <td>2414.7</td>\n",
       "      <td>NaN</td>\n",
       "      <td>NaN</td>\n",
       "      <td>1118.5</td>\n",
       "      <td>NaN</td>\n",
       "      <td>NaN</td>\n",
       "      <td>NaN</td>\n",
       "      <td>1296.2</td>\n",
       "      <td>NaN</td>\n",
       "      <td>NaN</td>\n",
       "      <td>NaN</td>\n",
       "      <td>NaN</td>\n",
       "      <td>NaN</td>\n",
       "      <td>EIA-860, EIA-860M and EIA-923</td>\n",
       "      <td>202305.0</td>\n",
       "      <td>-88.010300</td>\n",
       "      <td>31.006900</td>\n",
       "      <td>POINT (-88.01030 31.00690)</td>\n",
       "    </tr>\n",
       "    <tr>\n",
       "      <th>3</th>\n",
       "      <td>11573</td>\n",
       "      <td>4</td>\n",
       "      <td>Walter Bouldin Dam</td>\n",
       "      <td>195</td>\n",
       "      <td>Alabama Power Co</td>\n",
       "      <td>Electric Utility</td>\n",
       "      <td>750 Bouldin Dam Road</td>\n",
       "      <td>Wetumpka</td>\n",
       "      <td>Elmore</td>\n",
       "      <td>Alabama</td>\n",
       "      <td>36092.0</td>\n",
       "      <td>hydroelectric</td>\n",
       "      <td>Hydroelectric = 224.1 MW</td>\n",
       "      <td>Conventional Hydroelectric</td>\n",
       "      <td>225.0</td>\n",
       "      <td>224.1</td>\n",
       "      <td>NaN</td>\n",
       "      <td>NaN</td>\n",
       "      <td>NaN</td>\n",
       "      <td>NaN</td>\n",
       "      <td>224.1</td>\n",
       "      <td>NaN</td>\n",
       "      <td>NaN</td>\n",
       "      <td>NaN</td>\n",
       "      <td>NaN</td>\n",
       "      <td>NaN</td>\n",
       "      <td>NaN</td>\n",
       "      <td>NaN</td>\n",
       "      <td>EIA-860, EIA-860M and EIA-923</td>\n",
       "      <td>202305.0</td>\n",
       "      <td>-86.283056</td>\n",
       "      <td>32.583889</td>\n",
       "      <td>POINT (-86.28306 32.58389)</td>\n",
       "    </tr>\n",
       "    <tr>\n",
       "      <th>4</th>\n",
       "      <td>11574</td>\n",
       "      <td>9</td>\n",
       "      <td>Copper</td>\n",
       "      <td>5701</td>\n",
       "      <td>El Paso Electric Co</td>\n",
       "      <td>Electric Utility</td>\n",
       "      <td>651 Hawkins Blvd.</td>\n",
       "      <td>El Paso</td>\n",
       "      <td>El Paso</td>\n",
       "      <td>Texas</td>\n",
       "      <td>79915.0</td>\n",
       "      <td>natural gas</td>\n",
       "      <td>Natural Gas = 63 MW</td>\n",
       "      <td>Natural Gas Fired Combustion Turbine</td>\n",
       "      <td>86.9</td>\n",
       "      <td>63.0</td>\n",
       "      <td>NaN</td>\n",
       "      <td>NaN</td>\n",
       "      <td>NaN</td>\n",
       "      <td>NaN</td>\n",
       "      <td>NaN</td>\n",
       "      <td>NaN</td>\n",
       "      <td>63.0</td>\n",
       "      <td>NaN</td>\n",
       "      <td>NaN</td>\n",
       "      <td>NaN</td>\n",
       "      <td>NaN</td>\n",
       "      <td>NaN</td>\n",
       "      <td>EIA-860, EIA-860M and EIA-923</td>\n",
       "      <td>202305.0</td>\n",
       "      <td>-106.375000</td>\n",
       "      <td>31.756900</td>\n",
       "      <td>POINT (-106.37500 31.75690)</td>\n",
       "    </tr>\n",
       "  </tbody>\n",
       "</table>\n",
       "</div>"
      ],
      "text/plain": [
       "  objectid plant_code          plant_name utility_id  \\\n",
       "0    11570          1          Sand Point      63560   \n",
       "1    11571          2        Bankhead Dam        195   \n",
       "2    11572          3               Barry        195   \n",
       "3    11573          4  Walter Bouldin Dam        195   \n",
       "4    11574          9              Copper       5701   \n",
       "\n",
       "                     utility_name       sector_name        street_address  \\\n",
       "0  TDX Sand Point Generating, LLC  Electric Utility   100 Power Plant Way   \n",
       "1                Alabama Power Co  Electric Utility    19001 Lock 17 Road   \n",
       "2                Alabama Power Co  Electric Utility      North Highway 43   \n",
       "3                Alabama Power Co  Electric Utility  750 Bouldin Dam Road   \n",
       "4             El Paso Electric Co  Electric Utility     651 Hawkins Blvd.   \n",
       "\n",
       "         city          county    state      zip     primsource  \\\n",
       "0  Sand Point  Aleutians East   Alaska  99661.0      petroleum   \n",
       "1   Northport      Tuscaloosa  Alabama  35476.0  hydroelectric   \n",
       "2       Bucks          Mobile  Alabama  36512.0    natural gas   \n",
       "3    Wetumpka          Elmore  Alabama  36092.0  hydroelectric   \n",
       "4     El Paso         El Paso    Texas  79915.0    natural gas   \n",
       "\n",
       "                                 source_desc  \\\n",
       "0          Petroleum = 1.3 MW, Wind = 0.4 MW   \n",
       "1                      Hydroelectric = 53 MW   \n",
       "2  Coal = 1118.5 MW, Natural Gas = 1296.2 MW   \n",
       "3                   Hydroelectric = 224.1 MW   \n",
       "4                        Natural Gas = 63 MW   \n",
       "\n",
       "                                           tech_desc  install_mw  total_mw  \\\n",
       "0           Petroleum Liquids; Onshore Wind Turbine;         3.7       1.7   \n",
       "1                         Conventional Hydroelectric        53.9      53.0   \n",
       "2  Conventional Steam Coal; Natural Gas Fired Com...      2569.5    2414.7   \n",
       "3                         Conventional Hydroelectric       225.0     224.1   \n",
       "4               Natural Gas Fired Combustion Turbine        86.9      63.0   \n",
       "\n",
       "   bat_mw  bio_mw  coal_mw  geo_mw  hydro_mw  hydrops_mw   ng_mw nuclear_mw  \\\n",
       "0     NaN     NaN      NaN     NaN       NaN         NaN     NaN        NaN   \n",
       "1     NaN     NaN      NaN     NaN      53.0         NaN     NaN        NaN   \n",
       "2     NaN     NaN   1118.5     NaN       NaN         NaN  1296.2        NaN   \n",
       "3     NaN     NaN      NaN     NaN     224.1         NaN     NaN        NaN   \n",
       "4     NaN     NaN      NaN     NaN       NaN         NaN    63.0        NaN   \n",
       "\n",
       "   crude_mw  solar_mw  wind_mw  other_mw                         source  \\\n",
       "0       1.3       NaN      0.4       NaN  EIA-860, EIA-860M and EIA-923   \n",
       "1       NaN       NaN      NaN       NaN  EIA-860, EIA-860M and EIA-923   \n",
       "2       NaN       NaN      NaN       NaN  EIA-860, EIA-860M and EIA-923   \n",
       "3       NaN       NaN      NaN       NaN  EIA-860, EIA-860M and EIA-923   \n",
       "4       NaN       NaN      NaN       NaN  EIA-860, EIA-860M and EIA-923   \n",
       "\n",
       "     period   longitude   latitude                     geometry  \n",
       "0  202305.0 -160.497222  55.339722  POINT (-160.49722 55.33972)  \n",
       "1  202305.0  -87.356823  33.458665   POINT (-87.35682 33.45867)  \n",
       "2  202305.0  -88.010300  31.006900   POINT (-88.01030 31.00690)  \n",
       "3  202305.0  -86.283056  32.583889   POINT (-86.28306 32.58389)  \n",
       "4  202305.0 -106.375000  31.756900  POINT (-106.37500 31.75690)  "
      ]
     },
     "execution_count": 32,
     "metadata": {},
     "output_type": "execute_result"
    }
   ],
   "source": [
    "power_plants.head()"
   ]
  },
  {
   "cell_type": "markdown",
   "id": "40b4cdc5-bf3b-4391-a4c0-3b0e010abc4e",
   "metadata": {},
   "source": [
    "## Exercise\n",
    "\n",
    "1. Select power plants in California in a variable names `ca_power_plants`\n",
    "\n",
    "2. Create a list named `top_sources` with California's top 3 electric primary sources\n",
    "\n",
    "3. Isolate the California state boundary in a variable names `ca_boundary`\n",
    "\n",
    "4. Recreate plot"
   ]
  },
  {
   "cell_type": "code",
   "execution_count": 38,
   "id": "e1962fcf-cd5b-4d45-b0d2-2714df63d326",
   "metadata": {
    "tags": []
   },
   "outputs": [
    {
     "data": {
      "text/html": [
       "<div>\n",
       "<style scoped>\n",
       "    .dataframe tbody tr th:only-of-type {\n",
       "        vertical-align: middle;\n",
       "    }\n",
       "\n",
       "    .dataframe tbody tr th {\n",
       "        vertical-align: top;\n",
       "    }\n",
       "\n",
       "    .dataframe thead th {\n",
       "        text-align: right;\n",
       "    }\n",
       "</style>\n",
       "<table border=\"1\" class=\"dataframe\">\n",
       "  <thead>\n",
       "    <tr style=\"text-align: right;\">\n",
       "      <th></th>\n",
       "      <th>objectid</th>\n",
       "      <th>plant_code</th>\n",
       "      <th>plant_name</th>\n",
       "      <th>utility_id</th>\n",
       "      <th>utility_name</th>\n",
       "      <th>sector_name</th>\n",
       "      <th>street_address</th>\n",
       "      <th>city</th>\n",
       "      <th>county</th>\n",
       "      <th>state</th>\n",
       "      <th>zip</th>\n",
       "      <th>primsource</th>\n",
       "      <th>source_desc</th>\n",
       "      <th>tech_desc</th>\n",
       "      <th>install_mw</th>\n",
       "      <th>total_mw</th>\n",
       "      <th>bat_mw</th>\n",
       "      <th>bio_mw</th>\n",
       "      <th>coal_mw</th>\n",
       "      <th>geo_mw</th>\n",
       "      <th>hydro_mw</th>\n",
       "      <th>hydrops_mw</th>\n",
       "      <th>ng_mw</th>\n",
       "      <th>nuclear_mw</th>\n",
       "      <th>crude_mw</th>\n",
       "      <th>solar_mw</th>\n",
       "      <th>wind_mw</th>\n",
       "      <th>other_mw</th>\n",
       "      <th>source</th>\n",
       "      <th>period</th>\n",
       "      <th>longitude</th>\n",
       "      <th>latitude</th>\n",
       "      <th>geometry</th>\n",
       "    </tr>\n",
       "  </thead>\n",
       "  <tbody>\n",
       "    <tr>\n",
       "      <th>19</th>\n",
       "      <td>11589</td>\n",
       "      <td>34</td>\n",
       "      <td>Rollins</td>\n",
       "      <td>13402</td>\n",
       "      <td>Nevada Irrigation District</td>\n",
       "      <td>IPP Non-CHP</td>\n",
       "      <td>15531 Arrow Head Lane</td>\n",
       "      <td>Colfax</td>\n",
       "      <td>Placer</td>\n",
       "      <td>California</td>\n",
       "      <td>95713.0</td>\n",
       "      <td>hydroelectric</td>\n",
       "      <td>Hydroelectric = 12.1 MW</td>\n",
       "      <td>Conventional Hydroelectric</td>\n",
       "      <td>12.1</td>\n",
       "      <td>12.1</td>\n",
       "      <td>NaN</td>\n",
       "      <td>NaN</td>\n",
       "      <td>NaN</td>\n",
       "      <td>NaN</td>\n",
       "      <td>12.1</td>\n",
       "      <td>NaN</td>\n",
       "      <td>NaN</td>\n",
       "      <td>NaN</td>\n",
       "      <td>NaN</td>\n",
       "      <td>NaN</td>\n",
       "      <td>NaN</td>\n",
       "      <td>NaN</td>\n",
       "      <td>EIA-860, EIA-860M and EIA-923</td>\n",
       "      <td>202305.0</td>\n",
       "      <td>-120.953341</td>\n",
       "      <td>39.134259</td>\n",
       "      <td>POINT (-120.95334 39.13426)</td>\n",
       "    </tr>\n",
       "    <tr>\n",
       "      <th>38</th>\n",
       "      <td>11608</td>\n",
       "      <td>72</td>\n",
       "      <td>Venice Hydro</td>\n",
       "      <td>12397</td>\n",
       "      <td>Metropolitan Water District of S CA</td>\n",
       "      <td>Electric Utility</td>\n",
       "      <td>3815 Sepulveda Blvd</td>\n",
       "      <td>Culver City</td>\n",
       "      <td>Los Angeles</td>\n",
       "      <td>California</td>\n",
       "      <td>90230.0</td>\n",
       "      <td>hydroelectric</td>\n",
       "      <td>Hydroelectric = 10.1 MW</td>\n",
       "      <td>Conventional Hydroelectric</td>\n",
       "      <td>10.1</td>\n",
       "      <td>10.1</td>\n",
       "      <td>NaN</td>\n",
       "      <td>NaN</td>\n",
       "      <td>NaN</td>\n",
       "      <td>NaN</td>\n",
       "      <td>10.1</td>\n",
       "      <td>NaN</td>\n",
       "      <td>NaN</td>\n",
       "      <td>NaN</td>\n",
       "      <td>NaN</td>\n",
       "      <td>NaN</td>\n",
       "      <td>NaN</td>\n",
       "      <td>NaN</td>\n",
       "      <td>EIA-860, EIA-860M and EIA-923</td>\n",
       "      <td>202305.0</td>\n",
       "      <td>-118.416800</td>\n",
       "      <td>34.011350</td>\n",
       "      <td>POINT (-118.41680 34.01135)</td>\n",
       "    </tr>\n",
       "    <tr>\n",
       "      <th>54</th>\n",
       "      <td>11624</td>\n",
       "      <td>104</td>\n",
       "      <td>J S Eastwood</td>\n",
       "      <td>17609</td>\n",
       "      <td>Southern California Edison Co</td>\n",
       "      <td>Electric Utility</td>\n",
       "      <td>Hwy 168 Sierra National Forest</td>\n",
       "      <td>Shaver Lake</td>\n",
       "      <td>Fresno</td>\n",
       "      <td>California</td>\n",
       "      <td>93664.0</td>\n",
       "      <td>pumped storage</td>\n",
       "      <td>Pumped Storage = 199.8 MW</td>\n",
       "      <td>Hydroelectric Pumped Storage</td>\n",
       "      <td>199.8</td>\n",
       "      <td>199.8</td>\n",
       "      <td>NaN</td>\n",
       "      <td>NaN</td>\n",
       "      <td>NaN</td>\n",
       "      <td>NaN</td>\n",
       "      <td>NaN</td>\n",
       "      <td>199.8</td>\n",
       "      <td>NaN</td>\n",
       "      <td>NaN</td>\n",
       "      <td>NaN</td>\n",
       "      <td>NaN</td>\n",
       "      <td>NaN</td>\n",
       "      <td>NaN</td>\n",
       "      <td>EIA-860, EIA-860M and EIA-923</td>\n",
       "      <td>202305.0</td>\n",
       "      <td>-119.256700</td>\n",
       "      <td>37.147926</td>\n",
       "      <td>POINT (-119.25670 37.14793)</td>\n",
       "    </tr>\n",
       "    <tr>\n",
       "      <th>74</th>\n",
       "      <td>11644</td>\n",
       "      <td>151</td>\n",
       "      <td>McClure</td>\n",
       "      <td>12745</td>\n",
       "      <td>Modesto Irrigation District</td>\n",
       "      <td>Electric Utility</td>\n",
       "      <td>639 S. McClure Rd.</td>\n",
       "      <td>Modesto</td>\n",
       "      <td>Stanislaus</td>\n",
       "      <td>California</td>\n",
       "      <td>95354.0</td>\n",
       "      <td>natural gas</td>\n",
       "      <td>Natural Gas = 53.5 MW, Petroleum = 53.5 MW</td>\n",
       "      <td>Natural Gas Fired Combustion Turbine; Petroleu...</td>\n",
       "      <td>142.4</td>\n",
       "      <td>107.0</td>\n",
       "      <td>NaN</td>\n",
       "      <td>NaN</td>\n",
       "      <td>NaN</td>\n",
       "      <td>NaN</td>\n",
       "      <td>NaN</td>\n",
       "      <td>NaN</td>\n",
       "      <td>53.5</td>\n",
       "      <td>NaN</td>\n",
       "      <td>53.5</td>\n",
       "      <td>NaN</td>\n",
       "      <td>NaN</td>\n",
       "      <td>NaN</td>\n",
       "      <td>EIA-860, EIA-860M and EIA-923</td>\n",
       "      <td>202305.0</td>\n",
       "      <td>-120.931390</td>\n",
       "      <td>37.629360</td>\n",
       "      <td>POINT (-120.93139 37.62936)</td>\n",
       "    </tr>\n",
       "    <tr>\n",
       "      <th>80</th>\n",
       "      <td>11650</td>\n",
       "      <td>161</td>\n",
       "      <td>Turlock Lake</td>\n",
       "      <td>19281</td>\n",
       "      <td>Turlock Irrigation District</td>\n",
       "      <td>Electric Utility</td>\n",
       "      <td>21642 Davis Road</td>\n",
       "      <td>Hickman</td>\n",
       "      <td>Stanislaus</td>\n",
       "      <td>California</td>\n",
       "      <td>95323.0</td>\n",
       "      <td>hydroelectric</td>\n",
       "      <td>Hydroelectric = 3.3 MW</td>\n",
       "      <td>Conventional Hydroelectric</td>\n",
       "      <td>3.3</td>\n",
       "      <td>3.3</td>\n",
       "      <td>NaN</td>\n",
       "      <td>NaN</td>\n",
       "      <td>NaN</td>\n",
       "      <td>NaN</td>\n",
       "      <td>3.3</td>\n",
       "      <td>NaN</td>\n",
       "      <td>NaN</td>\n",
       "      <td>NaN</td>\n",
       "      <td>NaN</td>\n",
       "      <td>NaN</td>\n",
       "      <td>NaN</td>\n",
       "      <td>NaN</td>\n",
       "      <td>EIA-860, EIA-860M and EIA-923</td>\n",
       "      <td>202305.0</td>\n",
       "      <td>-120.594678</td>\n",
       "      <td>37.611461</td>\n",
       "      <td>POINT (-120.59468 37.61146)</td>\n",
       "    </tr>\n",
       "  </tbody>\n",
       "</table>\n",
       "</div>"
      ],
      "text/plain": [
       "   objectid plant_code    plant_name utility_id  \\\n",
       "19    11589         34       Rollins      13402   \n",
       "38    11608         72  Venice Hydro      12397   \n",
       "54    11624        104  J S Eastwood      17609   \n",
       "74    11644        151       McClure      12745   \n",
       "80    11650        161  Turlock Lake      19281   \n",
       "\n",
       "                           utility_name       sector_name  \\\n",
       "19           Nevada Irrigation District       IPP Non-CHP   \n",
       "38  Metropolitan Water District of S CA  Electric Utility   \n",
       "54        Southern California Edison Co  Electric Utility   \n",
       "74          Modesto Irrigation District  Electric Utility   \n",
       "80          Turlock Irrigation District  Electric Utility   \n",
       "\n",
       "                    street_address         city       county       state  \\\n",
       "19           15531 Arrow Head Lane       Colfax       Placer  California   \n",
       "38             3815 Sepulveda Blvd  Culver City  Los Angeles  California   \n",
       "54  Hwy 168 Sierra National Forest  Shaver Lake       Fresno  California   \n",
       "74              639 S. McClure Rd.      Modesto   Stanislaus  California   \n",
       "80                21642 Davis Road      Hickman   Stanislaus  California   \n",
       "\n",
       "        zip      primsource                                 source_desc  \\\n",
       "19  95713.0   hydroelectric                     Hydroelectric = 12.1 MW   \n",
       "38  90230.0   hydroelectric                     Hydroelectric = 10.1 MW   \n",
       "54  93664.0  pumped storage                   Pumped Storage = 199.8 MW   \n",
       "74  95354.0     natural gas  Natural Gas = 53.5 MW, Petroleum = 53.5 MW   \n",
       "80  95323.0   hydroelectric                      Hydroelectric = 3.3 MW   \n",
       "\n",
       "                                            tech_desc  install_mw  total_mw  \\\n",
       "19                         Conventional Hydroelectric        12.1      12.1   \n",
       "38                         Conventional Hydroelectric        10.1      10.1   \n",
       "54                       Hydroelectric Pumped Storage       199.8     199.8   \n",
       "74  Natural Gas Fired Combustion Turbine; Petroleu...       142.4     107.0   \n",
       "80                         Conventional Hydroelectric         3.3       3.3   \n",
       "\n",
       "    bat_mw  bio_mw  coal_mw  geo_mw  hydro_mw  hydrops_mw  ng_mw nuclear_mw  \\\n",
       "19     NaN     NaN      NaN     NaN      12.1         NaN    NaN        NaN   \n",
       "38     NaN     NaN      NaN     NaN      10.1         NaN    NaN        NaN   \n",
       "54     NaN     NaN      NaN     NaN       NaN       199.8    NaN        NaN   \n",
       "74     NaN     NaN      NaN     NaN       NaN         NaN   53.5        NaN   \n",
       "80     NaN     NaN      NaN     NaN       3.3         NaN    NaN        NaN   \n",
       "\n",
       "    crude_mw  solar_mw  wind_mw  other_mw                         source  \\\n",
       "19       NaN       NaN      NaN       NaN  EIA-860, EIA-860M and EIA-923   \n",
       "38       NaN       NaN      NaN       NaN  EIA-860, EIA-860M and EIA-923   \n",
       "54       NaN       NaN      NaN       NaN  EIA-860, EIA-860M and EIA-923   \n",
       "74      53.5       NaN      NaN       NaN  EIA-860, EIA-860M and EIA-923   \n",
       "80       NaN       NaN      NaN       NaN  EIA-860, EIA-860M and EIA-923   \n",
       "\n",
       "      period   longitude   latitude                     geometry  \n",
       "19  202305.0 -120.953341  39.134259  POINT (-120.95334 39.13426)  \n",
       "38  202305.0 -118.416800  34.011350  POINT (-118.41680 34.01135)  \n",
       "54  202305.0 -119.256700  37.147926  POINT (-119.25670 37.14793)  \n",
       "74  202305.0 -120.931390  37.629360  POINT (-120.93139 37.62936)  \n",
       "80  202305.0 -120.594678  37.611461  POINT (-120.59468 37.61146)  "
      ]
     },
     "execution_count": 38,
     "metadata": {},
     "output_type": "execute_result"
    }
   ],
   "source": [
    "ca_power_plants = power_plants[power_plants['state'] == 'California']\n",
    "ca_power_plants.head()"
   ]
  },
  {
   "cell_type": "code",
   "execution_count": 61,
   "id": "8194b239-8b49-435b-b532-8f01ea4579d3",
   "metadata": {
    "tags": []
   },
   "outputs": [
    {
     "data": {
      "text/plain": [
       "['solar', 'natural gas', 'hydroelectric']"
      ]
     },
     "execution_count": 61,
     "metadata": {},
     "output_type": "execute_result"
    }
   ],
   "source": [
    "top_sources = ca_power_plants.primsource.value_counts().head(3).keys().tolist()\n",
    "top_sources"
   ]
  },
  {
   "cell_type": "code",
   "execution_count": 64,
   "id": "dd897898-4b28-4406-9041-cb3a0437bacb",
   "metadata": {
    "tags": []
   },
   "outputs": [],
   "source": [
    "ca_boundary = states[states['name'] == 'California']"
   ]
  },
  {
   "cell_type": "code",
   "execution_count": 75,
   "id": "5d08982d-5303-4131-ae76-5bca770405b8",
   "metadata": {
    "tags": []
   },
   "outputs": [
    {
     "data": {
      "image/png": "[encoded data removed]",
      "text/plain": [
       "<Figure size 600x300 with 3 Axes>"
      ]
     },
     "metadata": {},
     "output_type": "display_data"
    }
   ],
   "source": [
    "fig, axes = plt.subplots(nrows = 1, ncols = 3, figsize = (6, 3))\n",
    "\n",
    "for ax, source in zip(axes, top_sources):\n",
    "    ca_boundary.plot(ax = ax,\n",
    "                    color = 'none')\n",
    "    \n",
    "    #subset points for sources\n",
    "    subset = ca_power_plants[ca_power_plants.primsource == source]\n",
    "    subset.plot(ax = ax, markersize = 0.5)\n",
    "    ax.set_title(source)\n",
    "    ax.axis('off')\n",
    "\n",
    "plt.show()"
   ]
  },
  {
   "cell_type": "markdown",
   "id": "4dbef672-be07-4765-9016-ae9a9f4cc5dd",
   "metadata": {},
   "source": [
    "## Functions\n",
    "\n",
    "**functions** in Python are blocks of reusable code designed to perform specific tasks, and make your code more modular and organized.\n",
    "\n",
    "The general syntax:\n",
    "\n",
    "```python\n",
    "def function_name(parameter_1, ..., parameter_n):\n",
    "    \"\"\"Docstring\"\"\"\n",
    "    <body of the function>\n",
    "    return value # Depends on function\n",
    "```\n",
    "\n",
    "Examples:\n",
    "A simple functionwith one-line doscstring and no return values."
   ]
  },
  {
   "cell_type": "code",
   "execution_count": 76,
   "id": "34593689-877b-48e1-ac19-b0352f6ca8ed",
   "metadata": {
    "tags": []
   },
   "outputs": [],
   "source": [
    "def greet():\n",
    "    \"\"\"Print a greeting message\"\"\"\n",
    "    print('Hello, welcome!')"
   ]
  },
  {
   "cell_type": "code",
   "execution_count": 79,
   "id": "440f121d-1a44-497b-8d09-33830418778e",
   "metadata": {
    "tags": []
   },
   "outputs": [
    {
     "name": "stdout",
     "output_type": "stream",
     "text": [
      "Hello, welcome!\n"
     ]
    }
   ],
   "source": [
    "greet()"
   ]
  },
  {
   "cell_type": "markdown",
   "id": "4ad1bed5-bfda-44d9-8719-583d0f5b87f0",
   "metadata": {},
   "source": [
    "Example 2:\n",
    "a function with a more detailed docstring and return value"
   ]
  },
  {
   "cell_type": "code",
   "execution_count": 80,
   "id": "748c4c00-8a5e-42dd-8746-fd263f437f7e",
   "metadata": {
    "tags": []
   },
   "outputs": [],
   "source": [
    "def circle_area(radius):\n",
    "    \"\"\"\n",
    "    Calculate the area of a circle given its radius.\n",
    "    \n",
    "    Args: \n",
    "        radius(float): The radius of the circle\n",
    "    Returns:\n",
    "        float: The area of a circle, calculated as pi * radius^2\n",
    "    \"\"\"\n",
    "    area = 3.14159 * radius ** 2\n",
    "    return area"
   ]
  },
  {
   "cell_type": "code",
   "execution_count": 82,
   "id": "ec35cfc7-f58d-481a-8a4d-bd6fea874f81",
   "metadata": {
    "tags": []
   },
   "outputs": [
    {
     "data": {
      "text/plain": [
       "1661.90111"
      ]
     },
     "execution_count": 82,
     "metadata": {},
     "output_type": "execute_result"
    }
   ],
   "source": [
    "circle_area(23)"
   ]
  },
  {
   "cell_type": "markdown",
   "id": "ffc14e42-7748-4edb-90c5-57d8df650dcd",
   "metadata": {},
   "source": [
    "## Example\n",
    "\n",
    "Going back to our power_plants data frame, let's create a function that will give us the top 3 primary energy sources for a given state."
   ]
  },
  {
   "cell_type": "code",
   "execution_count": 84,
   "id": "87829236-87be-4cf7-89bc-ccfb0dcf64ed",
   "metadata": {
    "tags": []
   },
   "outputs": [],
   "source": [
    "def top3_sources(state):\n",
    "    state_power_plants = power_plants[power_plants.state==state]\n",
    "    top_sources = state_power_plants.primsource.value_counts().index[:3].tolist()\n",
    "    \n",
    "    return top_sources"
   ]
  },
  {
   "cell_type": "code",
   "execution_count": 85,
   "id": "170cd495-80d2-4671-8558-a48915f88d68",
   "metadata": {
    "tags": []
   },
   "outputs": [
    {
     "data": {
      "text/plain": [
       "['natural gas', 'hydroelectric', 'biomass']"
      ]
     },
     "execution_count": 85,
     "metadata": {},
     "output_type": "execute_result"
    }
   ],
   "source": [
    "top3_sources('Alabama')"
   ]
  },
  {
   "cell_type": "code",
   "execution_count": null,
   "id": "a6d3a3ca-e726-4cdb-ac7e-e0f14471dc55",
   "metadata": {},
   "outputs": [],
   "source": []
  }
 ],
 "metadata": {
  "kernelspec": {
   "display_name": "Anaconda 3 (Base)",
   "language": "python",
   "name": "base"
  },
  "language_info": {
   "codemirror_mode": {
    "name": "ipython",
    "version": 3
   },
   "file_extension": ".py",
   "mimetype": "text/x-python",
   "name": "python",
   "nbconvert_exporter": "python",
   "pygments_lexer": "ipython3",
   "version": "3.9.13"
  }
 },
 "nbformat": 4,
 "nbformat_minor": 5
}
